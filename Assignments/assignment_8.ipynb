{
  "nbformat": 4,
  "nbformat_minor": 0,
  "metadata": {
    "colab": {
      "name": "assignment_8.ipynb",
      "provenance": [],
      "authorship_tag": "ABX9TyNPgOq+jQDl+NF8lb+kBBf6",
      "include_colab_link": true
    },
    "kernelspec": {
      "name": "python3",
      "display_name": "Python 3"
    }
  },
  "cells": [
    {
      "cell_type": "markdown",
      "metadata": {
        "id": "view-in-github",
        "colab_type": "text"
      },
      "source": [
        "<a href=\"https://colab.research.google.com/github/harshbhanderi/DATA690-WANG/blob/master/Assignments/assignment_8.ipynb\" target=\"_parent\"><img src=\"https://colab.research.google.com/assets/colab-badge.svg\" alt=\"Open In Colab\"/></a>"
      ]
    },
    {
      "cell_type": "code",
      "metadata": {
        "id": "Urcf2LM3GcWU",
        "colab_type": "code",
        "colab": {}
      },
      "source": [
        "import pandas as pd\n",
        "import numpy as np\n",
        "import matplotlib.pyplot as plt\n",
        "import seaborn as sns\n",
        "import math"
      ],
      "execution_count": 0,
      "outputs": []
    },
    {
      "cell_type": "code",
      "metadata": {
        "id": "fi6Ckd1fGu_P",
        "colab_type": "code",
        "colab": {}
      },
      "source": [
        "df = pd.read_csv('https://ed-public-download.app.cloud.gov/downloads/Most-Recent-Cohorts-All-Data-Elements.csv', usecols=['CONTROL', 'MD_EARN_WNE_P10'])"
      ],
      "execution_count": 0,
      "outputs": []
    },
    {
      "cell_type": "code",
      "metadata": {
        "id": "8_38zqevG41u",
        "colab_type": "code",
        "colab": {
          "base_uri": "https://localhost:8080/",
          "height": 204
        },
        "outputId": "0921396d-eab9-40a8-9967-6565e5b79547"
      },
      "source": [
        "df.head()"
      ],
      "execution_count": 102,
      "outputs": [
        {
          "output_type": "execute_result",
          "data": {
            "text/html": [
              "<div>\n",
              "<style scoped>\n",
              "    .dataframe tbody tr th:only-of-type {\n",
              "        vertical-align: middle;\n",
              "    }\n",
              "\n",
              "    .dataframe tbody tr th {\n",
              "        vertical-align: top;\n",
              "    }\n",
              "\n",
              "    .dataframe thead th {\n",
              "        text-align: right;\n",
              "    }\n",
              "</style>\n",
              "<table border=\"1\" class=\"dataframe\">\n",
              "  <thead>\n",
              "    <tr style=\"text-align: right;\">\n",
              "      <th></th>\n",
              "      <th>CONTROL</th>\n",
              "      <th>MD_EARN_WNE_P10</th>\n",
              "    </tr>\n",
              "  </thead>\n",
              "  <tbody>\n",
              "    <tr>\n",
              "      <th>0</th>\n",
              "      <td>1</td>\n",
              "      <td>31000</td>\n",
              "    </tr>\n",
              "    <tr>\n",
              "      <th>1</th>\n",
              "      <td>1</td>\n",
              "      <td>41200</td>\n",
              "    </tr>\n",
              "    <tr>\n",
              "      <th>2</th>\n",
              "      <td>2</td>\n",
              "      <td>39600</td>\n",
              "    </tr>\n",
              "    <tr>\n",
              "      <th>3</th>\n",
              "      <td>1</td>\n",
              "      <td>46700</td>\n",
              "    </tr>\n",
              "    <tr>\n",
              "      <th>4</th>\n",
              "      <td>1</td>\n",
              "      <td>27700</td>\n",
              "    </tr>\n",
              "  </tbody>\n",
              "</table>\n",
              "</div>"
            ],
            "text/plain": [
              "   CONTROL MD_EARN_WNE_P10\n",
              "0        1           31000\n",
              "1        1           41200\n",
              "2        2           39600\n",
              "3        1           46700\n",
              "4        1           27700"
            ]
          },
          "metadata": {
            "tags": []
          },
          "execution_count": 102
        }
      ]
    },
    {
      "cell_type": "code",
      "metadata": {
        "id": "rzMIP72qG6Vk",
        "colab_type": "code",
        "colab": {
          "base_uri": "https://localhost:8080/",
          "height": 85
        },
        "outputId": "4b0344c5-faa1-4a57-8bd5-5d3d92f9e195"
      },
      "source": [
        "df['CONTROL'].value_counts()"
      ],
      "execution_count": 103,
      "outputs": [
        {
          "output_type": "execute_result",
          "data": {
            "text/plain": [
              "3    2698\n",
              "1    2102\n",
              "2    2006\n",
              "Name: CONTROL, dtype: int64"
            ]
          },
          "metadata": {
            "tags": []
          },
          "execution_count": 103
        }
      ]
    },
    {
      "cell_type": "markdown",
      "metadata": {
        "id": "mmteSbwUIikr",
        "colab_type": "text"
      },
      "source": [
        "I don't know for which CONTROL variable there are public institutions, So I am guessing that CONTROL=1 is the public insitution and then filter the dataset according to it."
      ]
    },
    {
      "cell_type": "code",
      "metadata": {
        "id": "s7QPf1JjHjD9",
        "colab_type": "code",
        "colab": {}
      },
      "source": [
        "df_new = df[df['CONTROL'] == 1]"
      ],
      "execution_count": 0,
      "outputs": []
    },
    {
      "cell_type": "code",
      "metadata": {
        "id": "lsj5lmrjJ0ms",
        "colab_type": "code",
        "colab": {
          "base_uri": "https://localhost:8080/",
          "height": 204
        },
        "outputId": "4245c346-df8e-4a3a-eaac-468788fe4d23"
      },
      "source": [
        "df_new.sample(5)"
      ],
      "execution_count": 105,
      "outputs": [
        {
          "output_type": "execute_result",
          "data": {
            "text/html": [
              "<div>\n",
              "<style scoped>\n",
              "    .dataframe tbody tr th:only-of-type {\n",
              "        vertical-align: middle;\n",
              "    }\n",
              "\n",
              "    .dataframe tbody tr th {\n",
              "        vertical-align: top;\n",
              "    }\n",
              "\n",
              "    .dataframe thead th {\n",
              "        text-align: right;\n",
              "    }\n",
              "</style>\n",
              "<table border=\"1\" class=\"dataframe\">\n",
              "  <thead>\n",
              "    <tr style=\"text-align: right;\">\n",
              "      <th></th>\n",
              "      <th>CONTROL</th>\n",
              "      <th>MD_EARN_WNE_P10</th>\n",
              "    </tr>\n",
              "  </thead>\n",
              "  <tbody>\n",
              "    <tr>\n",
              "      <th>2333</th>\n",
              "      <td>1</td>\n",
              "      <td>51000</td>\n",
              "    </tr>\n",
              "    <tr>\n",
              "      <th>3820</th>\n",
              "      <td>1</td>\n",
              "      <td>PrivacySuppressed</td>\n",
              "    </tr>\n",
              "    <tr>\n",
              "      <th>256</th>\n",
              "      <td>1</td>\n",
              "      <td>30900</td>\n",
              "    </tr>\n",
              "    <tr>\n",
              "      <th>2375</th>\n",
              "      <td>1</td>\n",
              "      <td>38400</td>\n",
              "    </tr>\n",
              "    <tr>\n",
              "      <th>2636</th>\n",
              "      <td>1</td>\n",
              "      <td>47100</td>\n",
              "    </tr>\n",
              "  </tbody>\n",
              "</table>\n",
              "</div>"
            ],
            "text/plain": [
              "      CONTROL    MD_EARN_WNE_P10\n",
              "2333        1              51000\n",
              "3820        1  PrivacySuppressed\n",
              "256         1              30900\n",
              "2375        1              38400\n",
              "2636        1              47100"
            ]
          },
          "metadata": {
            "tags": []
          },
          "execution_count": 105
        }
      ]
    },
    {
      "cell_type": "code",
      "metadata": {
        "id": "qtgKR2rcMu3k",
        "colab_type": "code",
        "colab": {
          "base_uri": "https://localhost:8080/",
          "height": 170
        },
        "outputId": "c6dbf905-fa6f-4700-ba58-82666429da7b"
      },
      "source": [
        "# There are some PrivacySupressed values in MD_EARN_WNE_P10 column , So I am ready to remove all null values and zeroes with that.\n",
        "\n",
        "df_new.info()"
      ],
      "execution_count": 106,
      "outputs": [
        {
          "output_type": "stream",
          "text": [
            "<class 'pandas.core.frame.DataFrame'>\n",
            "Int64Index: 2102 entries, 0 to 6805\n",
            "Data columns (total 2 columns):\n",
            " #   Column           Non-Null Count  Dtype \n",
            "---  ------           --------------  ----- \n",
            " 0   CONTROL          2102 non-null   int64 \n",
            " 1   MD_EARN_WNE_P10  1955 non-null   object\n",
            "dtypes: int64(1), object(1)\n",
            "memory usage: 49.3+ KB\n"
          ],
          "name": "stdout"
        }
      ]
    },
    {
      "cell_type": "code",
      "metadata": {
        "id": "gQ5B1m4sJ7Vy",
        "colab_type": "code",
        "colab": {
          "base_uri": "https://localhost:8080/",
          "height": 119
        },
        "outputId": "bf70a619-8445-4c99-e19a-b82d1474fe42"
      },
      "source": [
        "df_new['MD_EARN_WNE_P10'] = pd.to_numeric(df_new['MD_EARN_WNE_P10'], errors='coerce')"
      ],
      "execution_count": 107,
      "outputs": [
        {
          "output_type": "stream",
          "text": [
            "/usr/local/lib/python3.6/dist-packages/ipykernel_launcher.py:1: SettingWithCopyWarning: \n",
            "A value is trying to be set on a copy of a slice from a DataFrame.\n",
            "Try using .loc[row_indexer,col_indexer] = value instead\n",
            "\n",
            "See the caveats in the documentation: https://pandas.pydata.org/pandas-docs/stable/user_guide/indexing.html#returning-a-view-versus-a-copy\n",
            "  \"\"\"Entry point for launching an IPython kernel.\n"
          ],
          "name": "stderr"
        }
      ]
    },
    {
      "cell_type": "code",
      "metadata": {
        "id": "St_6aA3eKzrW",
        "colab_type": "code",
        "colab": {
          "base_uri": "https://localhost:8080/",
          "height": 170
        },
        "outputId": "feadc068-466b-4735-911c-168abf2ce18e"
      },
      "source": [
        "df_new.info()"
      ],
      "execution_count": 108,
      "outputs": [
        {
          "output_type": "stream",
          "text": [
            "<class 'pandas.core.frame.DataFrame'>\n",
            "Int64Index: 2102 entries, 0 to 6805\n",
            "Data columns (total 2 columns):\n",
            " #   Column           Non-Null Count  Dtype  \n",
            "---  ------           --------------  -----  \n",
            " 0   CONTROL          2102 non-null   int64  \n",
            " 1   MD_EARN_WNE_P10  1853 non-null   float64\n",
            "dtypes: float64(1), int64(1)\n",
            "memory usage: 49.3 KB\n"
          ],
          "name": "stdout"
        }
      ]
    },
    {
      "cell_type": "code",
      "metadata": {
        "id": "ExP5DKvxSwxr",
        "colab_type": "code",
        "colab": {
          "base_uri": "https://localhost:8080/",
          "height": 170
        },
        "outputId": "057c2714-9e87-4e00-8658-5e2319cbbc21"
      },
      "source": [
        "df_new = df_new.dropna()\n",
        "df_new.info()"
      ],
      "execution_count": 118,
      "outputs": [
        {
          "output_type": "stream",
          "text": [
            "<class 'pandas.core.frame.DataFrame'>\n",
            "Int64Index: 1853 entries, 0 to 6615\n",
            "Data columns (total 2 columns):\n",
            " #   Column           Non-Null Count  Dtype  \n",
            "---  ------           --------------  -----  \n",
            " 0   CONTROL          1853 non-null   int64  \n",
            " 1   MD_EARN_WNE_P10  1853 non-null   float64\n",
            "dtypes: float64(1), int64(1)\n",
            "memory usage: 43.4 KB\n"
          ],
          "name": "stdout"
        }
      ]
    },
    {
      "cell_type": "code",
      "metadata": {
        "id": "G8iMEH6YMTFy",
        "colab_type": "code",
        "colab": {
          "base_uri": "https://localhost:8080/",
          "height": 627
        },
        "outputId": "aa341120-933a-437d-92f5-46fbe9b7d2b5"
      },
      "source": [
        "import missingno as msno\n",
        "msno.matrix(df_new)"
      ],
      "execution_count": 119,
      "outputs": [
        {
          "output_type": "execute_result",
          "data": {
            "text/plain": [
              "<matplotlib.axes._subplots.AxesSubplot at 0x7f34c4cd3e80>"
            ]
          },
          "metadata": {
            "tags": []
          },
          "execution_count": 119
        },
        {
          "output_type": "display_data",
          "data": {
            "image/png": "[encoded data removed]",
            "text/plain": [
              "<Figure size 1800x720 with 2 Axes>"
            ]
          },
          "metadata": {
            "tags": [],
            "needs_background": "light"
          }
        }
      ]
    },
    {
      "cell_type": "code",
      "metadata": {
        "id": "iu-qHH7XK1Dt",
        "colab_type": "code",
        "colab": {}
      },
      "source": [
        "df_sample_50 = df_new.sample(50)"
      ],
      "execution_count": 0,
      "outputs": []
    },
    {
      "cell_type": "code",
      "metadata": {
        "id": "XNAb5ch1K9XF",
        "colab_type": "code",
        "colab": {
          "base_uri": "https://localhost:8080/",
          "height": 297
        },
        "outputId": "bccdb06f-2457-4e6e-d661-0f4dddc54123"
      },
      "source": [
        "df_sample_50.describe()"
      ],
      "execution_count": 125,
      "outputs": [
        {
          "output_type": "execute_result",
          "data": {
            "text/html": [
              "<div>\n",
              "<style scoped>\n",
              "    .dataframe tbody tr th:only-of-type {\n",
              "        vertical-align: middle;\n",
              "    }\n",
              "\n",
              "    .dataframe tbody tr th {\n",
              "        vertical-align: top;\n",
              "    }\n",
              "\n",
              "    .dataframe thead th {\n",
              "        text-align: right;\n",
              "    }\n",
              "</style>\n",
              "<table border=\"1\" class=\"dataframe\">\n",
              "  <thead>\n",
              "    <tr style=\"text-align: right;\">\n",
              "      <th></th>\n",
              "      <th>CONTROL</th>\n",
              "      <th>MD_EARN_WNE_P10</th>\n",
              "    </tr>\n",
              "  </thead>\n",
              "  <tbody>\n",
              "    <tr>\n",
              "      <th>count</th>\n",
              "      <td>50.0</td>\n",
              "      <td>50.000000</td>\n",
              "    </tr>\n",
              "    <tr>\n",
              "      <th>mean</th>\n",
              "      <td>1.0</td>\n",
              "      <td>35710.000000</td>\n",
              "    </tr>\n",
              "    <tr>\n",
              "      <th>std</th>\n",
              "      <td>0.0</td>\n",
              "      <td>9405.648542</td>\n",
              "    </tr>\n",
              "    <tr>\n",
              "      <th>min</th>\n",
              "      <td>1.0</td>\n",
              "      <td>18700.000000</td>\n",
              "    </tr>\n",
              "    <tr>\n",
              "      <th>25%</th>\n",
              "      <td>1.0</td>\n",
              "      <td>29475.000000</td>\n",
              "    </tr>\n",
              "    <tr>\n",
              "      <th>50%</th>\n",
              "      <td>1.0</td>\n",
              "      <td>33900.000000</td>\n",
              "    </tr>\n",
              "    <tr>\n",
              "      <th>75%</th>\n",
              "      <td>1.0</td>\n",
              "      <td>40900.000000</td>\n",
              "    </tr>\n",
              "    <tr>\n",
              "      <th>max</th>\n",
              "      <td>1.0</td>\n",
              "      <td>71900.000000</td>\n",
              "    </tr>\n",
              "  </tbody>\n",
              "</table>\n",
              "</div>"
            ],
            "text/plain": [
              "       CONTROL  MD_EARN_WNE_P10\n",
              "count     50.0        50.000000\n",
              "mean       1.0     35710.000000\n",
              "std        0.0      9405.648542\n",
              "min        1.0     18700.000000\n",
              "25%        1.0     29475.000000\n",
              "50%        1.0     33900.000000\n",
              "75%        1.0     40900.000000\n",
              "max        1.0     71900.000000"
            ]
          },
          "metadata": {
            "tags": []
          },
          "execution_count": 125
        }
      ]
    },
    {
      "cell_type": "code",
      "metadata": {
        "id": "27KM7sxKPs4P",
        "colab_type": "code",
        "colab": {
          "base_uri": "https://localhost:8080/",
          "height": 34
        },
        "outputId": "9ea3cadd-31bf-46a1-96f1-e451a4bf5292"
      },
      "source": [
        "sample_mean_50 = df_sample_50[\"MD_EARN_WNE_P10\"].mean()\n",
        "sample_mean_50"
      ],
      "execution_count": 169,
      "outputs": [
        {
          "output_type": "execute_result",
          "data": {
            "text/plain": [
              "35710.0"
            ]
          },
          "metadata": {
            "tags": []
          },
          "execution_count": 169
        }
      ]
    },
    {
      "cell_type": "code",
      "metadata": {
        "id": "aFDUuaGEUNB-",
        "colab_type": "code",
        "colab": {
          "base_uri": "https://localhost:8080/",
          "height": 34
        },
        "outputId": "8868a4ba-7430-438e-e3a3-13e100095c54"
      },
      "source": [
        "sample_std_dev = df_sample_50[\"MD_EARN_WNE_P10\"].std()\n",
        "sample_std_dev"
      ],
      "execution_count": 170,
      "outputs": [
        {
          "output_type": "execute_result",
          "data": {
            "text/plain": [
              "9405.648541690038"
            ]
          },
          "metadata": {
            "tags": []
          },
          "execution_count": 170
        }
      ]
    },
    {
      "cell_type": "code",
      "metadata": {
        "id": "p49WByDjUSTi",
        "colab_type": "code",
        "colab": {
          "base_uri": "https://localhost:8080/",
          "height": 34
        },
        "outputId": "efeb94dc-a5f4-4496-b525-fe8b02b6d395"
      },
      "source": [
        "# let's calculate the standard error first \n",
        "# Since we assume we don't know the population standard deviation, we use sample standard deviation as an estimate\n",
        "\n",
        "std_err = sample_std_dev / math.sqrt(50)       # standard error\n",
        "std_err"
      ],
      "execution_count": 171,
      "outputs": [
        {
          "output_type": "execute_result",
          "data": {
            "text/plain": [
              "1330.1595730572774"
            ]
          },
          "metadata": {
            "tags": []
          },
          "execution_count": 171
        }
      ]
    },
    {
      "cell_type": "code",
      "metadata": {
        "id": "zech4vYTejOm",
        "colab_type": "code",
        "colab": {
          "base_uri": "https://localhost:8080/",
          "height": 34
        },
        "outputId": "54873600-f2e5-4571-fcf6-30ffbbc8e983"
      },
      "source": [
        "sample_mean"
      ],
      "execution_count": 172,
      "outputs": [
        {
          "output_type": "execute_result",
          "data": {
            "text/plain": [
              "35079.0"
            ]
          },
          "metadata": {
            "tags": []
          },
          "execution_count": 172
        }
      ]
    },
    {
      "cell_type": "code",
      "metadata": {
        "id": "hCy1-QaBUzTb",
        "colab_type": "code",
        "colab": {
          "base_uri": "https://localhost:8080/",
          "height": 51
        },
        "outputId": "e9d03c1e-843b-47c0-f016-9e873a695a1c"
      },
      "source": [
        "# Calculate 68% Confidence Interval (CI) - one standard error from the population mean\n",
        "# 68% chances the population mean is within the sample_mean (+ or -) the standard error (SE)\n",
        "\n",
        "LCL_68 = sample_mean_50 -  std_err\n",
        "UCL_68 = sample_mean_50 +  std_err\n",
        "\n",
        "print(\"Lower confidence limit at 68% confidence level = \", round(LCL_68,2))\n",
        "print(\"Upper confidence limit at 68% confidence level = \", round(UCL_68,2))"
      ],
      "execution_count": 173,
      "outputs": [
        {
          "output_type": "stream",
          "text": [
            "Lower confidence limit at 68% confidence level =  34379.84\n",
            "Upper confidence limit at 68% confidence level =  37040.16\n"
          ],
          "name": "stdout"
        }
      ]
    },
    {
      "cell_type": "code",
      "metadata": {
        "id": "vMAyJXF6cFAs",
        "colab_type": "code",
        "colab": {
          "base_uri": "https://localhost:8080/",
          "height": 51
        },
        "outputId": "324ff797-0ded-4168-bf1e-bdf1af3f6db6"
      },
      "source": [
        "# Calculate 95% Confidence Interval (CI) - one standard error from the population mean\n",
        "# 90% chances the population mean is within the sample_mean + or - 2 * the standard error (SE)\n",
        "\n",
        "LCL_95 = sample_mean_50 -  2 * std_err\n",
        "UCL_95 = sample_mean_50 +  2 * std_err\n",
        "\n",
        "print(\"Lower confidence limit at 95% confidence level = \", round(LCL_95,2))\n",
        "print(\"Upper confidence limit at 95% confidence level = \", round(UCL_95,2))"
      ],
      "execution_count": 174,
      "outputs": [
        {
          "output_type": "stream",
          "text": [
            "Lower confidence limit at 95% confidence level =  33049.68\n",
            "Upper confidence limit at 95% confidence level =  38370.32\n"
          ],
          "name": "stdout"
        }
      ]
    },
    {
      "cell_type": "code",
      "metadata": {
        "id": "AlxhAMgBdGjG",
        "colab_type": "code",
        "colab": {
          "base_uri": "https://localhost:8080/",
          "height": 51
        },
        "outputId": "97035924-b4df-461d-b5d9-0d3622d64e06"
      },
      "source": [
        "# Calculate 99.7% Confidence Interval (CI) - one standard error from the population mean\n",
        "# 99.7% chances the population mean is within the sample_mean + or - 3 * the standard error (SE)\n",
        "\n",
        "LCL_997 = sample_mean_50 -  3 * std_err\n",
        "UCL_997 = sample_mean_50 +  3 * std_err\n",
        "print(\"Lower confidence limit at 99.7% confidence level = \", round(LCL_997,2))\n",
        "print(\"Upper confidence limit at 99.7% confidence level = \", round(UCL_997,2))"
      ],
      "execution_count": 175,
      "outputs": [
        {
          "output_type": "stream",
          "text": [
            "Lower confidence limit at 99.7% confidence level =  31719.52\n",
            "Upper confidence limit at 99.7% confidence level =  39700.48\n"
          ],
          "name": "stdout"
        }
      ]
    },
    {
      "cell_type": "code",
      "metadata": {
        "id": "xN2x8FG1dGnK",
        "colab_type": "code",
        "colab": {
          "base_uri": "https://localhost:8080/",
          "height": 34
        },
        "outputId": "e6658d65-cdfe-4be8-b96c-bcb6e5ef4a45"
      },
      "source": [
        "df_new['MD_EARN_WNE_P10'].mean()"
      ],
      "execution_count": 176,
      "outputs": [
        {
          "output_type": "execute_result",
          "data": {
            "text/plain": [
              "36083.21640582839"
            ]
          },
          "metadata": {
            "tags": []
          },
          "execution_count": 176
        }
      ]
    },
    {
      "cell_type": "code",
      "metadata": {
        "id": "DPwaurDSeBYO",
        "colab_type": "code",
        "colab": {
          "base_uri": "https://localhost:8080/",
          "height": 34
        },
        "outputId": "d7a5b4ac-5843-4a61-8945-af06fd4da3de"
      },
      "source": [
        "df_sample_50['MD_EARN_WNE_P10'].mean()"
      ],
      "execution_count": 177,
      "outputs": [
        {
          "output_type": "execute_result",
          "data": {
            "text/plain": [
              "35710.0"
            ]
          },
          "metadata": {
            "tags": []
          },
          "execution_count": 177
        }
      ]
    },
    {
      "cell_type": "code",
      "metadata": {
        "id": "TnXaR53CeGDC",
        "colab_type": "code",
        "colab": {
          "base_uri": "https://localhost:8080/",
          "height": 68
        },
        "outputId": "6503fefc-9fd2-4508-8837-51fe2eba22bb"
      },
      "source": [
        "print('Population mean : ', round(df_new['MD_EARN_WNE_P10'].mean(), 2))\n",
        "print('Sample 50 mean : ', sample_mean_50)\n",
        "print('Difference Between Population mean and Sample mean :', round(df_new['MD_EARN_WNE_P10'].mean() - sample_mean_50, 2))"
      ],
      "execution_count": 178,
      "outputs": [
        {
          "output_type": "stream",
          "text": [
            "Population mean :  36083.22\n",
            "Sample 50 mean :  35710.0\n",
            "Difference Between Population mean and Sample mean : 373.22\n"
          ],
          "name": "stdout"
        }
      ]
    },
    {
      "cell_type": "markdown",
      "metadata": {
        "id": "L1b4ydGYgGMI",
        "colab_type": "text"
      },
      "source": [
        "And It seems that population mean of 36083.21 is falling within in all confidence levels"
      ]
    },
    {
      "cell_type": "markdown",
      "metadata": {
        "id": "KN1hoFNUglq5",
        "colab_type": "text"
      },
      "source": [
        "--------------------------"
      ]
    },
    {
      "cell_type": "code",
      "metadata": {
        "colab_type": "code",
        "id": "CJbUJsbUgpzT",
        "colab": {}
      },
      "source": [
        "df_sample_100 = df_new.sample(100)"
      ],
      "execution_count": 0,
      "outputs": []
    },
    {
      "cell_type": "code",
      "metadata": {
        "colab_type": "code",
        "outputId": "7c1852e8-d6f6-4404-8bf9-5894bb9ef4ff",
        "id": "p4pEV8rigpzk",
        "colab": {
          "base_uri": "https://localhost:8080/",
          "height": 297
        }
      },
      "source": [
        "df_sample_100.describe()"
      ],
      "execution_count": 155,
      "outputs": [
        {
          "output_type": "execute_result",
          "data": {
            "text/html": [
              "<div>\n",
              "<style scoped>\n",
              "    .dataframe tbody tr th:only-of-type {\n",
              "        vertical-align: middle;\n",
              "    }\n",
              "\n",
              "    .dataframe tbody tr th {\n",
              "        vertical-align: top;\n",
              "    }\n",
              "\n",
              "    .dataframe thead th {\n",
              "        text-align: right;\n",
              "    }\n",
              "</style>\n",
              "<table border=\"1\" class=\"dataframe\">\n",
              "  <thead>\n",
              "    <tr style=\"text-align: right;\">\n",
              "      <th></th>\n",
              "      <th>CONTROL</th>\n",
              "      <th>MD_EARN_WNE_P10</th>\n",
              "    </tr>\n",
              "  </thead>\n",
              "  <tbody>\n",
              "    <tr>\n",
              "      <th>count</th>\n",
              "      <td>100.0</td>\n",
              "      <td>100.00000</td>\n",
              "    </tr>\n",
              "    <tr>\n",
              "      <th>mean</th>\n",
              "      <td>1.0</td>\n",
              "      <td>35079.00000</td>\n",
              "    </tr>\n",
              "    <tr>\n",
              "      <th>std</th>\n",
              "      <td>0.0</td>\n",
              "      <td>8038.27077</td>\n",
              "    </tr>\n",
              "    <tr>\n",
              "      <th>min</th>\n",
              "      <td>1.0</td>\n",
              "      <td>19600.00000</td>\n",
              "    </tr>\n",
              "    <tr>\n",
              "      <th>25%</th>\n",
              "      <td>1.0</td>\n",
              "      <td>29900.00000</td>\n",
              "    </tr>\n",
              "    <tr>\n",
              "      <th>50%</th>\n",
              "      <td>1.0</td>\n",
              "      <td>34100.00000</td>\n",
              "    </tr>\n",
              "    <tr>\n",
              "      <th>75%</th>\n",
              "      <td>1.0</td>\n",
              "      <td>39150.00000</td>\n",
              "    </tr>\n",
              "    <tr>\n",
              "      <th>max</th>\n",
              "      <td>1.0</td>\n",
              "      <td>62500.00000</td>\n",
              "    </tr>\n",
              "  </tbody>\n",
              "</table>\n",
              "</div>"
            ],
            "text/plain": [
              "       CONTROL  MD_EARN_WNE_P10\n",
              "count    100.0        100.00000\n",
              "mean       1.0      35079.00000\n",
              "std        0.0       8038.27077\n",
              "min        1.0      19600.00000\n",
              "25%        1.0      29900.00000\n",
              "50%        1.0      34100.00000\n",
              "75%        1.0      39150.00000\n",
              "max        1.0      62500.00000"
            ]
          },
          "metadata": {
            "tags": []
          },
          "execution_count": 155
        }
      ]
    },
    {
      "cell_type": "code",
      "metadata": {
        "colab_type": "code",
        "outputId": "d44bae5e-cbcf-46d6-f8a9-e06aa8827002",
        "id": "7cIUYYvMgpzt",
        "colab": {
          "base_uri": "https://localhost:8080/",
          "height": 34
        }
      },
      "source": [
        "sample_mean_100 = df_sample_100[\"MD_EARN_WNE_P10\"].mean()\n",
        "sample_mean_100"
      ],
      "execution_count": 180,
      "outputs": [
        {
          "output_type": "execute_result",
          "data": {
            "text/plain": [
              "35577.0"
            ]
          },
          "metadata": {
            "tags": []
          },
          "execution_count": 180
        }
      ]
    },
    {
      "cell_type": "code",
      "metadata": {
        "colab_type": "code",
        "outputId": "d6501705-bcec-4f37-ec70-7e747752aaeb",
        "id": "zNZ6D_lNgpz2",
        "colab": {
          "base_uri": "https://localhost:8080/",
          "height": 34
        }
      },
      "source": [
        "sample_std_dev = df_sample_100[\"MD_EARN_WNE_P10\"].std()\n",
        "sample_std_dev"
      ],
      "execution_count": 157,
      "outputs": [
        {
          "output_type": "execute_result",
          "data": {
            "text/plain": [
              "8038.270769866923"
            ]
          },
          "metadata": {
            "tags": []
          },
          "execution_count": 157
        }
      ]
    },
    {
      "cell_type": "code",
      "metadata": {
        "colab_type": "code",
        "outputId": "50bc3b4b-dc5f-41d6-8e56-9f74d58dba75",
        "id": "Mx8_wOrsgpz9",
        "colab": {
          "base_uri": "https://localhost:8080/",
          "height": 34
        }
      },
      "source": [
        "# let's calculate the standard error first \n",
        "# Since we assume we don't know the population standard deviation, we use sample standard deviation as an estimate\n",
        "\n",
        "std_err = sample_std_dev / math.sqrt(50)       # standard error\n",
        "std_err"
      ],
      "execution_count": 158,
      "outputs": [
        {
          "output_type": "execute_result",
          "data": {
            "text/plain": [
              "1136.7831540773022"
            ]
          },
          "metadata": {
            "tags": []
          },
          "execution_count": 158
        }
      ]
    },
    {
      "cell_type": "code",
      "metadata": {
        "colab_type": "code",
        "outputId": "b13383e0-c7b2-4e8d-c325-222b240b46f3",
        "id": "O2rgNId3gp0D",
        "colab": {
          "base_uri": "https://localhost:8080/",
          "height": 34
        }
      },
      "source": [
        "sample_mean_100"
      ],
      "execution_count": 181,
      "outputs": [
        {
          "output_type": "execute_result",
          "data": {
            "text/plain": [
              "35577.0"
            ]
          },
          "metadata": {
            "tags": []
          },
          "execution_count": 181
        }
      ]
    },
    {
      "cell_type": "code",
      "metadata": {
        "colab_type": "code",
        "outputId": "a4ef67de-9d34-4678-cb49-9242cd528a3e",
        "id": "RuwksI33gp0L",
        "colab": {
          "base_uri": "https://localhost:8080/",
          "height": 51
        }
      },
      "source": [
        "# Calculate 68% Confidence Interval (CI) - one standard error from the population mean\n",
        "# 68% chances the population mean is within the sample_mean (+ or -) the standard error (SE)\n",
        "\n",
        "LCL_68 = sample_mean_100 -  std_err\n",
        "UCL_68 = sample_mean_100 +  std_err\n",
        "\n",
        "print(\"Lower confidence limit at 68% confidence level = \", round(LCL_68,2))\n",
        "print(\"Upper confidence limit at 68% confidence level = \", round(UCL_68,2))"
      ],
      "execution_count": 182,
      "outputs": [
        {
          "output_type": "stream",
          "text": [
            "Lower confidence limit at 68% confidence level =  34246.84\n",
            "Upper confidence limit at 68% confidence level =  36907.16\n"
          ],
          "name": "stdout"
        }
      ]
    },
    {
      "cell_type": "code",
      "metadata": {
        "colab_type": "code",
        "outputId": "e2c916e3-2c39-4f61-bcc5-854ea4c39e08",
        "id": "3p4OIyeqgp0S",
        "colab": {
          "base_uri": "https://localhost:8080/",
          "height": 51
        }
      },
      "source": [
        "# Calculate 95% Confidence Interval (CI) - one standard error from the population mean\n",
        "# 90% chances the population mean is within the sample_mean + or - 2 * the standard error (SE)\n",
        "\n",
        "LCL_95 = sample_mean_100 -  2 * std_err\n",
        "UCL_95 = sample_mean_100 +  2 * std_err\n",
        "\n",
        "print(\"Lower confidence limit at 95% confidence level = \", round(LCL_95,2))\n",
        "print(\"Upper confidence limit at 95% confidence level = \", round(UCL_95,2))"
      ],
      "execution_count": 183,
      "outputs": [
        {
          "output_type": "stream",
          "text": [
            "Lower confidence limit at 95% confidence level =  32916.68\n",
            "Upper confidence limit at 95% confidence level =  38237.32\n"
          ],
          "name": "stdout"
        }
      ]
    },
    {
      "cell_type": "code",
      "metadata": {
        "colab_type": "code",
        "outputId": "c18c43c3-3f33-46c3-a66c-5a0ac698c7ba",
        "id": "3NWzAB_pgp0Y",
        "colab": {
          "base_uri": "https://localhost:8080/",
          "height": 51
        }
      },
      "source": [
        "# Calculate 99.7% Confidence Interval (CI) - one standard error from the population mean\n",
        "# 99.7% chances the population mean is within the sample_mean + or - 3 * the standard error (SE)\n",
        "\n",
        "LCL_997 = sample_mean_100 -  3 * std_err\n",
        "UCL_997 = sample_mean_100 +  3 * std_err\n",
        "print(\"Lower confidence limit at 99.7% confidence level = \", round(LCL_997,2))\n",
        "print(\"Upper confidence limit at 99.7% confidence level = \", round(UCL_997,2))"
      ],
      "execution_count": 185,
      "outputs": [
        {
          "output_type": "stream",
          "text": [
            "Lower confidence limit at 99.7% confidence level =  31586.52\n",
            "Upper confidence limit at 99.7% confidence level =  39567.48\n"
          ],
          "name": "stdout"
        }
      ]
    },
    {
      "cell_type": "code",
      "metadata": {
        "colab_type": "code",
        "outputId": "90e8b6ec-1fd3-4390-c528-56a535f90912",
        "id": "8u9vvr1Jgp0d",
        "colab": {
          "base_uri": "https://localhost:8080/",
          "height": 34
        }
      },
      "source": [
        "df_new['MD_EARN_WNE_P10'].mean()"
      ],
      "execution_count": 163,
      "outputs": [
        {
          "output_type": "execute_result",
          "data": {
            "text/plain": [
              "36083.21640582839"
            ]
          },
          "metadata": {
            "tags": []
          },
          "execution_count": 163
        }
      ]
    },
    {
      "cell_type": "code",
      "metadata": {
        "colab_type": "code",
        "outputId": "d9649bf0-20c6-4cbc-9a41-aba2f1e523a1",
        "id": "BmJMBpQWgp0h",
        "colab": {
          "base_uri": "https://localhost:8080/",
          "height": 34
        }
      },
      "source": [
        "df_sample_100['MD_EARN_WNE_P10'].mean()"
      ],
      "execution_count": 164,
      "outputs": [
        {
          "output_type": "execute_result",
          "data": {
            "text/plain": [
              "35079.0"
            ]
          },
          "metadata": {
            "tags": []
          },
          "execution_count": 164
        }
      ]
    },
    {
      "cell_type": "code",
      "metadata": {
        "colab_type": "code",
        "outputId": "f4bde31e-14cc-499d-df22-a94f150cfda1",
        "id": "6WcGBRFygp0k",
        "colab": {
          "base_uri": "https://localhost:8080/",
          "height": 68
        }
      },
      "source": [
        "print('Population mean : ', round(df_new['MD_EARN_WNE_P10'].mean(), 2))\n",
        "print('Sample 100 mean : ', sample_mean_100)\n",
        "print('Difference Between Population mean and Sample mean :', round(df_new['MD_EARN_WNE_P10'].mean() - sample_mean_100, 2))"
      ],
      "execution_count": 186,
      "outputs": [
        {
          "output_type": "stream",
          "text": [
            "Population mean :  36083.22\n",
            "Sample 100 mean :  35577.0\n",
            "Difference Between Population mean and Sample mean : 506.22\n"
          ],
          "name": "stdout"
        }
      ]
    },
    {
      "cell_type": "markdown",
      "metadata": {
        "colab_type": "text",
        "id": "cNkinqw3gp0o"
      },
      "source": [
        "And It seems that population mean of 36083.21 is falling within in all confidence levels"
      ]
    },
    {
      "cell_type": "markdown",
      "metadata": {
        "id": "Vq5SGTcnhvK8",
        "colab_type": "text"
      },
      "source": [
        "--------------------------------------"
      ]
    },
    {
      "cell_type": "markdown",
      "metadata": {
        "id": "ICSnvYghh2GQ",
        "colab_type": "text"
      },
      "source": [
        "\n",
        "\n",
        "- Population mean : 36083.22\n",
        "- Sample 50 mean :  35710.0\n",
        "- Sample 100 mean : 35577.0\n",
        "\n",
        "---------------------------\n",
        "\n",
        "### Comparision between 68% Confidence level\n",
        "\n",
        "- Sample 50 : [34379.84, 37040.16]\n",
        "- Sample 100 : [33942.22, 36215.78]\n",
        "\n",
        "---------------------------\n",
        "\n",
        "### Comparision between 95% Confidence level\n",
        "\n",
        "- Sample 50 : [33049.68, 38370.32]\n",
        "- Sample 100 : [32916.68, 38237.32]\n",
        "\n",
        "----------------------------\n",
        "### Comparision between 99.7% Confidence level\n",
        "\n",
        "- Sample 50 : [31719.52, 39700.48]\n",
        "- Sample 100 : [31586.52, 39567.48]\n"
      ]
    },
    {
      "cell_type": "markdown",
      "metadata": {
        "id": "AHd4RDQbkVp9",
        "colab_type": "text"
      },
      "source": [
        "After comparing all the confidence level between sample 50 and 100, I can say that at 99.7% confidence level almost confidence interval(CI) have very close value as compared to 68% confidence level.\n",
        "\n",
        "That means "
      ]
    },
    {
      "cell_type": "code",
      "metadata": {
        "colab_type": "code",
        "id": "Izo9VCJBgp0p",
        "colab": {}
      },
      "source": [
        ""
      ],
      "execution_count": 0,
      "outputs": []
    }
  ]
}