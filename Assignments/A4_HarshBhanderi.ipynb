{
 "cells": [
  {
   "cell_type": "markdown",
   "metadata": {
    "colab_type": "text",
    "id": "view-in-github"
   },
   "source": [
    "<a href=\"https://colab.research.google.com/github/wcj365/python-stats-dataviz/blob/master/assignments/Assignment-04.ipynb\" target=\"_parent\"><img src=\"https://colab.research.google.com/assets/colab-badge.svg\" alt=\"Open In Colab\"/></a>"
   ]
  },
  {
   "cell_type": "code",
   "execution_count": 1,
   "metadata": {
    "colab": {},
    "colab_type": "code",
    "id": "h1dBKntgwtH4"
   },
   "outputs": [],
   "source": [
    "# <1> \n",
    "# Import libraries\n",
    "# (Write code here)\n",
    "\n",
    "import pandas as pd\n",
    "import matplotlib.pyplot as plt\n",
    "import seaborn as sns"
   ]
  },
  {
   "cell_type": "code",
   "execution_count": 2,
   "metadata": {
    "colab": {},
    "colab_type": "code",
    "id": "qJ9o7d8twtH_"
   },
   "outputs": [
    {
     "data": {
      "text/html": [
       "<div>\n",
       "<style scoped>\n",
       "    .dataframe tbody tr th:only-of-type {\n",
       "        vertical-align: middle;\n",
       "    }\n",
       "\n",
       "    .dataframe tbody tr th {\n",
       "        vertical-align: top;\n",
       "    }\n",
       "\n",
       "    .dataframe thead th {\n",
       "        text-align: right;\n",
       "    }\n",
       "</style>\n",
       "<table border=\"1\" class=\"dataframe\">\n",
       "  <thead>\n",
       "    <tr style=\"text-align: right;\">\n",
       "      <th></th>\n",
       "      <th>UNITID</th>\n",
       "      <th>OPEID</th>\n",
       "      <th>OPEID6</th>\n",
       "      <th>INSTNM</th>\n",
       "      <th>CITY</th>\n",
       "      <th>ZIP</th>\n",
       "      <th>ADM_RATE</th>\n",
       "      <th>UGDS</th>\n",
       "      <th>TUITIONFEE_IN</th>\n",
       "    </tr>\n",
       "  </thead>\n",
       "  <tbody>\n",
       "    <tr>\n",
       "      <th>0</th>\n",
       "      <td>100654</td>\n",
       "      <td>100200</td>\n",
       "      <td>1002</td>\n",
       "      <td>Alabama A &amp; M University</td>\n",
       "      <td>Normal</td>\n",
       "      <td>35762</td>\n",
       "      <td>0.9027</td>\n",
       "      <td>4824.0</td>\n",
       "      <td>9857.0</td>\n",
       "    </tr>\n",
       "    <tr>\n",
       "      <th>1</th>\n",
       "      <td>100663</td>\n",
       "      <td>105200</td>\n",
       "      <td>1052</td>\n",
       "      <td>University of Alabama at Birmingham</td>\n",
       "      <td>Birmingham</td>\n",
       "      <td>35294-0110</td>\n",
       "      <td>0.9181</td>\n",
       "      <td>12866.0</td>\n",
       "      <td>8328.0</td>\n",
       "    </tr>\n",
       "    <tr>\n",
       "      <th>2</th>\n",
       "      <td>100690</td>\n",
       "      <td>2503400</td>\n",
       "      <td>25034</td>\n",
       "      <td>Amridge University</td>\n",
       "      <td>Montgomery</td>\n",
       "      <td>36117-3553</td>\n",
       "      <td>NaN</td>\n",
       "      <td>322.0</td>\n",
       "      <td>6900.0</td>\n",
       "    </tr>\n",
       "    <tr>\n",
       "      <th>3</th>\n",
       "      <td>100706</td>\n",
       "      <td>105500</td>\n",
       "      <td>1055</td>\n",
       "      <td>University of Alabama in Huntsville</td>\n",
       "      <td>Huntsville</td>\n",
       "      <td>35899</td>\n",
       "      <td>0.8123</td>\n",
       "      <td>6917.0</td>\n",
       "      <td>10280.0</td>\n",
       "    </tr>\n",
       "    <tr>\n",
       "      <th>4</th>\n",
       "      <td>100724</td>\n",
       "      <td>100500</td>\n",
       "      <td>1005</td>\n",
       "      <td>Alabama State University</td>\n",
       "      <td>Montgomery</td>\n",
       "      <td>36104-0271</td>\n",
       "      <td>0.9787</td>\n",
       "      <td>4189.0</td>\n",
       "      <td>11068.0</td>\n",
       "    </tr>\n",
       "  </tbody>\n",
       "</table>\n",
       "</div>"
      ],
      "text/plain": [
       "   UNITID    OPEID  OPEID6                               INSTNM        CITY  \\\n",
       "0  100654   100200    1002             Alabama A & M University      Normal   \n",
       "1  100663   105200    1052  University of Alabama at Birmingham  Birmingham   \n",
       "2  100690  2503400   25034                   Amridge University  Montgomery   \n",
       "3  100706   105500    1055  University of Alabama in Huntsville  Huntsville   \n",
       "4  100724   100500    1005             Alabama State University  Montgomery   \n",
       "\n",
       "          ZIP  ADM_RATE     UGDS  TUITIONFEE_IN  \n",
       "0       35762    0.9027   4824.0         9857.0  \n",
       "1  35294-0110    0.9181  12866.0         8328.0  \n",
       "2  36117-3553       NaN    322.0         6900.0  \n",
       "3       35899    0.8123   6917.0        10280.0  \n",
       "4  36104-0271    0.9787   4189.0        11068.0  "
      ]
     },
     "execution_count": 2,
     "metadata": {},
     "output_type": "execute_result"
    }
   ],
   "source": [
    "# <2>\n",
    "# load the 2017-2018 school year file \"MERGED2017_18_PP.csv\" \n",
    "# Don't include all columns - too many and take up computer resources (computeing power and memory)\n",
    "# Only load the following 10 columns should be loaded:\n",
    "# UNITID: \n",
    "# OPEID:              \n",
    "# OPEID6:            \n",
    "# INSTNM:          \n",
    "# CITY:                      \n",
    "# ZIP:               \n",
    "# ADM_RATE:           \n",
    "# UGDS:             \n",
    "# TUITIONFEE_IN:      \n",
    "\n",
    "# (Write code here)\n",
    "df = pd.read_csv('CollegeScorecard_Raw_Data/MERGED2017_18_PP.csv', usecols=['UNITID', 'OPEID', 'OPEID6', 'INSTNM', 'CITY', 'ZIP', 'ADM_RATE', 'UGDS', 'TUITIONFEE_IN'])\n",
    "df.head()"
   ]
  },
  {
   "cell_type": "code",
   "execution_count": 3,
   "metadata": {
    "colab": {},
    "colab_type": "code",
    "id": "fOIPL0FzwtIC"
   },
   "outputs": [
    {
     "data": {
      "text/html": [
       "<div>\n",
       "<style scoped>\n",
       "    .dataframe tbody tr th:only-of-type {\n",
       "        vertical-align: middle;\n",
       "    }\n",
       "\n",
       "    .dataframe tbody tr th {\n",
       "        vertical-align: top;\n",
       "    }\n",
       "\n",
       "    .dataframe thead th {\n",
       "        text-align: right;\n",
       "    }\n",
       "</style>\n",
       "<table border=\"1\" class=\"dataframe\">\n",
       "  <thead>\n",
       "    <tr style=\"text-align: right;\">\n",
       "      <th></th>\n",
       "      <th>UNITID</th>\n",
       "      <th>MD_EARN_WNE_P10</th>\n",
       "    </tr>\n",
       "  </thead>\n",
       "  <tbody>\n",
       "    <tr>\n",
       "      <th>0</th>\n",
       "      <td>100654</td>\n",
       "      <td>31000</td>\n",
       "    </tr>\n",
       "    <tr>\n",
       "      <th>1</th>\n",
       "      <td>100663</td>\n",
       "      <td>41200</td>\n",
       "    </tr>\n",
       "    <tr>\n",
       "      <th>2</th>\n",
       "      <td>100690</td>\n",
       "      <td>39600</td>\n",
       "    </tr>\n",
       "    <tr>\n",
       "      <th>3</th>\n",
       "      <td>100706</td>\n",
       "      <td>46700</td>\n",
       "    </tr>\n",
       "    <tr>\n",
       "      <th>4</th>\n",
       "      <td>100724</td>\n",
       "      <td>27700</td>\n",
       "    </tr>\n",
       "  </tbody>\n",
       "</table>\n",
       "</div>"
      ],
      "text/plain": [
       "   UNITID MD_EARN_WNE_P10\n",
       "0  100654           31000\n",
       "1  100663           41200\n",
       "2  100690           39600\n",
       "3  100706           46700\n",
       "4  100724           27700"
      ]
     },
     "execution_count": 3,
     "metadata": {},
     "output_type": "execute_result"
    }
   ],
   "source": [
    "# <3>\n",
    "# Load the scorecard file Most-Recent-Cohorts-Scorecard-Elements.csv from the link:\n",
    "# https://ed-public-download.app.cloud.gov/downloads/Most-Recent-Cohorts-Scorecard-Elements.csv\n",
    "# This file has thre median earnings which is not present in the previous file\n",
    "# Only load the two columns:\n",
    "# UNITID - This column is the unique identity for each college and will be used to join with the previous file\n",
    "# MD_EARN_WNE_P10  - This column has the median earnings\n",
    "# (Write code here)\n",
    "\n",
    "df_scorecard = pd.read_csv('https://ed-public-download.app.cloud.gov/downloads/Most-Recent-Cohorts-Scorecard-Elements.csv', usecols = ['UNITID', 'MD_EARN_WNE_P10'])\n",
    "df_scorecard.head(5)"
   ]
  },
  {
   "cell_type": "code",
   "execution_count": 4,
   "metadata": {
    "colab": {},
    "colab_type": "code",
    "id": "Z2r8AaE1wtIE"
   },
   "outputs": [
    {
     "name": "stdout",
     "output_type": "stream",
     "text": [
      "<class 'pandas.core.frame.DataFrame'>\n",
      "RangeIndex: 7112 entries, 0 to 7111\n",
      "Data columns (total 2 columns):\n",
      "UNITID             7112 non-null int64\n",
      "MD_EARN_WNE_P10    5887 non-null object\n",
      "dtypes: int64(1), object(1)\n",
      "memory usage: 111.2+ KB\n"
     ]
    }
   ],
   "source": [
    "# <4> \n",
    "# Explore this file - number of colleges, head/tail/sample etc.\n",
    "# Notice this file has different number of colleges from the previous file\n",
    "# This indicate they are not identical and they overlap (they don't contain the same set of colleges)\n",
    "# (Write code here)\n",
    "\n",
    "df_scorecard.info()"
   ]
  },
  {
   "cell_type": "code",
   "execution_count": 49,
   "metadata": {},
   "outputs": [
    {
     "data": {
      "text/html": [
       "<div>\n",
       "<style scoped>\n",
       "    .dataframe tbody tr th:only-of-type {\n",
       "        vertical-align: middle;\n",
       "    }\n",
       "\n",
       "    .dataframe tbody tr th {\n",
       "        vertical-align: top;\n",
       "    }\n",
       "\n",
       "    .dataframe thead th {\n",
       "        text-align: right;\n",
       "    }\n",
       "</style>\n",
       "<table border=\"1\" class=\"dataframe\">\n",
       "  <thead>\n",
       "    <tr style=\"text-align: right;\">\n",
       "      <th></th>\n",
       "      <th>UNITID</th>\n",
       "      <th>MD_EARN_WNE_P10</th>\n",
       "    </tr>\n",
       "  </thead>\n",
       "  <tbody>\n",
       "    <tr>\n",
       "      <th>0</th>\n",
       "      <td>100654</td>\n",
       "      <td>31000</td>\n",
       "    </tr>\n",
       "    <tr>\n",
       "      <th>1</th>\n",
       "      <td>100663</td>\n",
       "      <td>41200</td>\n",
       "    </tr>\n",
       "    <tr>\n",
       "      <th>2</th>\n",
       "      <td>100690</td>\n",
       "      <td>39600</td>\n",
       "    </tr>\n",
       "    <tr>\n",
       "      <th>3</th>\n",
       "      <td>100706</td>\n",
       "      <td>46700</td>\n",
       "    </tr>\n",
       "    <tr>\n",
       "      <th>4</th>\n",
       "      <td>100724</td>\n",
       "      <td>27700</td>\n",
       "    </tr>\n",
       "  </tbody>\n",
       "</table>\n",
       "</div>"
      ],
      "text/plain": [
       "   UNITID MD_EARN_WNE_P10\n",
       "0  100654           31000\n",
       "1  100663           41200\n",
       "2  100690           39600\n",
       "3  100706           46700\n",
       "4  100724           27700"
      ]
     },
     "execution_count": 49,
     "metadata": {},
     "output_type": "execute_result"
    }
   ],
   "source": [
    "df_scorecard.head(5)"
   ]
  },
  {
   "cell_type": "code",
   "execution_count": 50,
   "metadata": {},
   "outputs": [
    {
     "data": {
      "text/html": [
       "<div>\n",
       "<style scoped>\n",
       "    .dataframe tbody tr th:only-of-type {\n",
       "        vertical-align: middle;\n",
       "    }\n",
       "\n",
       "    .dataframe tbody tr th {\n",
       "        vertical-align: top;\n",
       "    }\n",
       "\n",
       "    .dataframe thead th {\n",
       "        text-align: right;\n",
       "    }\n",
       "</style>\n",
       "<table border=\"1\" class=\"dataframe\">\n",
       "  <thead>\n",
       "    <tr style=\"text-align: right;\">\n",
       "      <th></th>\n",
       "      <th>UNITID</th>\n",
       "      <th>MD_EARN_WNE_P10</th>\n",
       "    </tr>\n",
       "  </thead>\n",
       "  <tbody>\n",
       "    <tr>\n",
       "      <th>7107</th>\n",
       "      <td>48312404</td>\n",
       "      <td>NaN</td>\n",
       "    </tr>\n",
       "    <tr>\n",
       "      <th>7108</th>\n",
       "      <td>48387801</td>\n",
       "      <td>NaN</td>\n",
       "    </tr>\n",
       "    <tr>\n",
       "      <th>7109</th>\n",
       "      <td>48400201</td>\n",
       "      <td>NaN</td>\n",
       "    </tr>\n",
       "    <tr>\n",
       "      <th>7110</th>\n",
       "      <td>48778201</td>\n",
       "      <td>NaN</td>\n",
       "    </tr>\n",
       "    <tr>\n",
       "      <th>7111</th>\n",
       "      <td>49005401</td>\n",
       "      <td>NaN</td>\n",
       "    </tr>\n",
       "  </tbody>\n",
       "</table>\n",
       "</div>"
      ],
      "text/plain": [
       "        UNITID MD_EARN_WNE_P10\n",
       "7107  48312404             NaN\n",
       "7108  48387801             NaN\n",
       "7109  48400201             NaN\n",
       "7110  48778201             NaN\n",
       "7111  49005401             NaN"
      ]
     },
     "execution_count": 50,
     "metadata": {},
     "output_type": "execute_result"
    }
   ],
   "source": [
    "df_scorecard.tail(5)"
   ]
  },
  {
   "cell_type": "code",
   "execution_count": 51,
   "metadata": {
    "colab": {},
    "colab_type": "code",
    "id": "aH8NCrmVwtII"
   },
   "outputs": [
    {
     "data": {
      "text/html": [
       "<div>\n",
       "<style scoped>\n",
       "    .dataframe tbody tr th:only-of-type {\n",
       "        vertical-align: middle;\n",
       "    }\n",
       "\n",
       "    .dataframe tbody tr th {\n",
       "        vertical-align: top;\n",
       "    }\n",
       "\n",
       "    .dataframe thead th {\n",
       "        text-align: right;\n",
       "    }\n",
       "</style>\n",
       "<table border=\"1\" class=\"dataframe\">\n",
       "  <thead>\n",
       "    <tr style=\"text-align: right;\">\n",
       "      <th></th>\n",
       "      <th>UNITID</th>\n",
       "      <th>OPEID</th>\n",
       "      <th>OPEID6</th>\n",
       "      <th>INSTNM</th>\n",
       "      <th>CITY</th>\n",
       "      <th>ZIP</th>\n",
       "      <th>ADM_RATE</th>\n",
       "      <th>UGDS</th>\n",
       "      <th>TUITIONFEE_IN</th>\n",
       "      <th>MD_EARN_WNE_P10</th>\n",
       "    </tr>\n",
       "  </thead>\n",
       "  <tbody>\n",
       "    <tr>\n",
       "      <th>4039</th>\n",
       "      <td>248624</td>\n",
       "      <td>533000</td>\n",
       "      <td>5330</td>\n",
       "      <td>Fayette County Career &amp; Technical Institute Pr...</td>\n",
       "      <td>Uniontown</td>\n",
       "      <td>15401</td>\n",
       "      <td>NaN</td>\n",
       "      <td>90.0</td>\n",
       "      <td>NaN</td>\n",
       "      <td>39300</td>\n",
       "    </tr>\n",
       "    <tr>\n",
       "      <th>1431</th>\n",
       "      <td>161244</td>\n",
       "      <td>205500</td>\n",
       "      <td>2055</td>\n",
       "      <td>University of Maine at Machias</td>\n",
       "      <td>Machias</td>\n",
       "      <td>04654-1397</td>\n",
       "      <td>NaN</td>\n",
       "      <td>522.0</td>\n",
       "      <td>7680.0</td>\n",
       "      <td>27500</td>\n",
       "    </tr>\n",
       "    <tr>\n",
       "      <th>1370</th>\n",
       "      <td>159027</td>\n",
       "      <td>2582200</td>\n",
       "      <td>25822</td>\n",
       "      <td>Guy's Shreveport Academy of Cosmetology Inc</td>\n",
       "      <td>Shreveport</td>\n",
       "      <td>71105</td>\n",
       "      <td>NaN</td>\n",
       "      <td>90.0</td>\n",
       "      <td>NaN</td>\n",
       "      <td>16600</td>\n",
       "    </tr>\n",
       "    <tr>\n",
       "      <th>952</th>\n",
       "      <td>145239</td>\n",
       "      <td>2522800</td>\n",
       "      <td>25228</td>\n",
       "      <td>Fox College</td>\n",
       "      <td>Bedford Park</td>\n",
       "      <td>60638</td>\n",
       "      <td>0.6053</td>\n",
       "      <td>433.0</td>\n",
       "      <td>15160.0</td>\n",
       "      <td>33500</td>\n",
       "    </tr>\n",
       "    <tr>\n",
       "      <th>3527</th>\n",
       "      <td>228246</td>\n",
       "      <td>361300</td>\n",
       "      <td>3613</td>\n",
       "      <td>Southern Methodist University</td>\n",
       "      <td>Dallas</td>\n",
       "      <td>75275-0221</td>\n",
       "      <td>0.4877</td>\n",
       "      <td>6427.0</td>\n",
       "      <td>52498.0</td>\n",
       "      <td>60700</td>\n",
       "    </tr>\n",
       "  </tbody>\n",
       "</table>\n",
       "</div>"
      ],
      "text/plain": [
       "      UNITID    OPEID  OPEID6  \\\n",
       "4039  248624   533000    5330   \n",
       "1431  161244   205500    2055   \n",
       "1370  159027  2582200   25822   \n",
       "952   145239  2522800   25228   \n",
       "3527  228246   361300    3613   \n",
       "\n",
       "                                                 INSTNM          CITY  \\\n",
       "4039  Fayette County Career & Technical Institute Pr...     Uniontown   \n",
       "1431                     University of Maine at Machias       Machias   \n",
       "1370        Guy's Shreveport Academy of Cosmetology Inc    Shreveport   \n",
       "952                                         Fox College  Bedford Park   \n",
       "3527                      Southern Methodist University        Dallas   \n",
       "\n",
       "             ZIP  ADM_RATE    UGDS  TUITIONFEE_IN MD_EARN_WNE_P10  \n",
       "4039       15401       NaN    90.0            NaN           39300  \n",
       "1431  04654-1397       NaN   522.0         7680.0           27500  \n",
       "1370       71105       NaN    90.0            NaN           16600  \n",
       "952        60638    0.6053   433.0        15160.0           33500  \n",
       "3527  75275-0221    0.4877  6427.0        52498.0           60700  "
      ]
     },
     "execution_count": 51,
     "metadata": {},
     "output_type": "execute_result"
    }
   ],
   "source": [
    "# <5>\n",
    "#Join the two files together to produce a third file which contain all the columns and all colleges that are common to both files\n",
    "# (Write code here)\n",
    "\n",
    "merged_df = pd.merge(left=df, right=df_scorecard, left_on='UNITID', right_on='UNITID')\n",
    "merged_df.sample(5)"
   ]
  },
  {
   "cell_type": "code",
   "execution_count": 53,
   "metadata": {},
   "outputs": [],
   "source": [
    "# merged_df.loc[merged_df['UNITID'] == 100706]\n"
   ]
  },
  {
   "cell_type": "code",
   "execution_count": 54,
   "metadata": {
    "colab": {},
    "colab_type": "code",
    "id": "bPiKBlyEwtIM"
   },
   "outputs": [
    {
     "data": {
      "text/html": [
       "<div>\n",
       "<style scoped>\n",
       "    .dataframe tbody tr th:only-of-type {\n",
       "        vertical-align: middle;\n",
       "    }\n",
       "\n",
       "    .dataframe tbody tr th {\n",
       "        vertical-align: top;\n",
       "    }\n",
       "\n",
       "    .dataframe thead th {\n",
       "        text-align: right;\n",
       "    }\n",
       "</style>\n",
       "<table border=\"1\" class=\"dataframe\">\n",
       "  <thead>\n",
       "    <tr style=\"text-align: right;\">\n",
       "      <th></th>\n",
       "      <th>UNITID</th>\n",
       "      <th>OPEID</th>\n",
       "      <th>OPEID6</th>\n",
       "      <th>INSTNM</th>\n",
       "      <th>CITY</th>\n",
       "      <th>ZIP</th>\n",
       "      <th>ADM_RATE</th>\n",
       "      <th>UGDS</th>\n",
       "      <th>TUITIONFEE_IN</th>\n",
       "      <th>MD_EARN_WNE_P10</th>\n",
       "    </tr>\n",
       "  </thead>\n",
       "  <tbody>\n",
       "    <tr>\n",
       "      <th>0</th>\n",
       "      <td>100654</td>\n",
       "      <td>100200</td>\n",
       "      <td>1002</td>\n",
       "      <td>Alabama A &amp; M University</td>\n",
       "      <td>Normal</td>\n",
       "      <td>35762</td>\n",
       "      <td>0.9027</td>\n",
       "      <td>4824.0</td>\n",
       "      <td>9857.0</td>\n",
       "      <td>31000</td>\n",
       "    </tr>\n",
       "    <tr>\n",
       "      <th>1</th>\n",
       "      <td>100663</td>\n",
       "      <td>105200</td>\n",
       "      <td>1052</td>\n",
       "      <td>University of Alabama at Birmingham</td>\n",
       "      <td>Birmingham</td>\n",
       "      <td>35294-0110</td>\n",
       "      <td>0.9181</td>\n",
       "      <td>12866.0</td>\n",
       "      <td>8328.0</td>\n",
       "      <td>41200</td>\n",
       "    </tr>\n",
       "    <tr>\n",
       "      <th>2</th>\n",
       "      <td>100690</td>\n",
       "      <td>2503400</td>\n",
       "      <td>25034</td>\n",
       "      <td>Amridge University</td>\n",
       "      <td>Montgomery</td>\n",
       "      <td>36117-3553</td>\n",
       "      <td>NaN</td>\n",
       "      <td>322.0</td>\n",
       "      <td>6900.0</td>\n",
       "      <td>39600</td>\n",
       "    </tr>\n",
       "    <tr>\n",
       "      <th>3</th>\n",
       "      <td>100706</td>\n",
       "      <td>105500</td>\n",
       "      <td>1055</td>\n",
       "      <td>University of Alabama in Huntsville</td>\n",
       "      <td>Huntsville</td>\n",
       "      <td>35899</td>\n",
       "      <td>0.8123</td>\n",
       "      <td>6917.0</td>\n",
       "      <td>10280.0</td>\n",
       "      <td>46700</td>\n",
       "    </tr>\n",
       "    <tr>\n",
       "      <th>4</th>\n",
       "      <td>100724</td>\n",
       "      <td>100500</td>\n",
       "      <td>1005</td>\n",
       "      <td>Alabama State University</td>\n",
       "      <td>Montgomery</td>\n",
       "      <td>36104-0271</td>\n",
       "      <td>0.9787</td>\n",
       "      <td>4189.0</td>\n",
       "      <td>11068.0</td>\n",
       "      <td>27700</td>\n",
       "    </tr>\n",
       "  </tbody>\n",
       "</table>\n",
       "</div>"
      ],
      "text/plain": [
       "   UNITID    OPEID  OPEID6                               INSTNM        CITY  \\\n",
       "0  100654   100200    1002             Alabama A & M University      Normal   \n",
       "1  100663   105200    1052  University of Alabama at Birmingham  Birmingham   \n",
       "2  100690  2503400   25034                   Amridge University  Montgomery   \n",
       "3  100706   105500    1055  University of Alabama in Huntsville  Huntsville   \n",
       "4  100724   100500    1005             Alabama State University  Montgomery   \n",
       "\n",
       "          ZIP  ADM_RATE     UGDS  TUITIONFEE_IN MD_EARN_WNE_P10  \n",
       "0       35762    0.9027   4824.0         9857.0           31000  \n",
       "1  35294-0110    0.9181  12866.0         8328.0           41200  \n",
       "2  36117-3553       NaN    322.0         6900.0           39600  \n",
       "3       35899    0.8123   6917.0        10280.0           46700  \n",
       "4  36104-0271    0.9787   4189.0        11068.0           27700  "
      ]
     },
     "execution_count": 54,
     "metadata": {},
     "output_type": "execute_result"
    }
   ],
   "source": [
    "# <6>\n",
    "# Explore the new file - number of colleges, head/tail/sample etc.\n",
    "# (Write code here)\n",
    "merged_df.head(5)"
   ]
  },
  {
   "cell_type": "code",
   "execution_count": 55,
   "metadata": {},
   "outputs": [
    {
     "name": "stdout",
     "output_type": "stream",
     "text": [
      "<class 'pandas.core.frame.DataFrame'>\n",
      "Int64Index: 7112 entries, 0 to 7111\n",
      "Data columns (total 10 columns):\n",
      "UNITID             7112 non-null int64\n",
      "OPEID              7112 non-null int64\n",
      "OPEID6             7112 non-null int64\n",
      "INSTNM             7112 non-null object\n",
      "CITY               7112 non-null object\n",
      "ZIP                7112 non-null object\n",
      "ADM_RATE           2037 non-null float64\n",
      "UGDS               6364 non-null float64\n",
      "TUITIONFEE_IN      4021 non-null float64\n",
      "MD_EARN_WNE_P10    5887 non-null object\n",
      "dtypes: float64(3), int64(3), object(4)\n",
      "memory usage: 611.2+ KB\n"
     ]
    }
   ],
   "source": [
    "merged_df.info()"
   ]
  },
  {
   "cell_type": "code",
   "execution_count": 56,
   "metadata": {},
   "outputs": [
    {
     "data": {
      "text/html": [
       "<div>\n",
       "<style scoped>\n",
       "    .dataframe tbody tr th:only-of-type {\n",
       "        vertical-align: middle;\n",
       "    }\n",
       "\n",
       "    .dataframe tbody tr th {\n",
       "        vertical-align: top;\n",
       "    }\n",
       "\n",
       "    .dataframe thead th {\n",
       "        text-align: right;\n",
       "    }\n",
       "</style>\n",
       "<table border=\"1\" class=\"dataframe\">\n",
       "  <thead>\n",
       "    <tr style=\"text-align: right;\">\n",
       "      <th></th>\n",
       "      <th>UNITID</th>\n",
       "      <th>OPEID</th>\n",
       "      <th>OPEID6</th>\n",
       "      <th>ADM_RATE</th>\n",
       "      <th>UGDS</th>\n",
       "      <th>TUITIONFEE_IN</th>\n",
       "    </tr>\n",
       "  </thead>\n",
       "  <tbody>\n",
       "    <tr>\n",
       "      <th>count</th>\n",
       "      <td>7.112000e+03</td>\n",
       "      <td>7.112000e+03</td>\n",
       "      <td>7112.000000</td>\n",
       "      <td>2037.000000</td>\n",
       "      <td>6364.000000</td>\n",
       "      <td>4021.000000</td>\n",
       "    </tr>\n",
       "    <tr>\n",
       "      <th>mean</th>\n",
       "      <td>1.867121e+06</td>\n",
       "      <td>1.866750e+06</td>\n",
       "      <td>16755.217660</td>\n",
       "      <td>0.681822</td>\n",
       "      <td>2427.202074</td>\n",
       "      <td>15097.328277</td>\n",
       "    </tr>\n",
       "    <tr>\n",
       "      <th>std</th>\n",
       "      <td>6.958737e+06</td>\n",
       "      <td>3.315240e+06</td>\n",
       "      <td>14589.294487</td>\n",
       "      <td>0.212179</td>\n",
       "      <td>5482.365605</td>\n",
       "      <td>12725.207303</td>\n",
       "    </tr>\n",
       "    <tr>\n",
       "      <th>min</th>\n",
       "      <td>1.006540e+05</td>\n",
       "      <td>1.002000e+05</td>\n",
       "      <td>1002.000000</td>\n",
       "      <td>0.000000</td>\n",
       "      <td>0.000000</td>\n",
       "      <td>480.000000</td>\n",
       "    </tr>\n",
       "    <tr>\n",
       "      <th>25%</th>\n",
       "      <td>1.740728e+05</td>\n",
       "      <td>3.229750e+05</td>\n",
       "      <td>3224.750000</td>\n",
       "      <td>0.550000</td>\n",
       "      <td>106.000000</td>\n",
       "      <td>5252.000000</td>\n",
       "    </tr>\n",
       "    <tr>\n",
       "      <th>50%</th>\n",
       "      <td>2.289995e+05</td>\n",
       "      <td>1.056050e+06</td>\n",
       "      <td>10542.000000</td>\n",
       "      <td>0.707600</td>\n",
       "      <td>401.000000</td>\n",
       "      <td>11330.000000</td>\n",
       "    </tr>\n",
       "    <tr>\n",
       "      <th>75%</th>\n",
       "      <td>4.506005e+05</td>\n",
       "      <td>3.025825e+06</td>\n",
       "      <td>30106.000000</td>\n",
       "      <td>0.838400</td>\n",
       "      <td>2018.750000</td>\n",
       "      <td>19400.000000</td>\n",
       "    </tr>\n",
       "    <tr>\n",
       "      <th>max</th>\n",
       "      <td>4.900540e+07</td>\n",
       "      <td>8.209884e+07</td>\n",
       "      <td>42698.000000</td>\n",
       "      <td>1.000000</td>\n",
       "      <td>77269.000000</td>\n",
       "      <td>74514.000000</td>\n",
       "    </tr>\n",
       "  </tbody>\n",
       "</table>\n",
       "</div>"
      ],
      "text/plain": [
       "             UNITID         OPEID        OPEID6     ADM_RATE          UGDS  \\\n",
       "count  7.112000e+03  7.112000e+03   7112.000000  2037.000000   6364.000000   \n",
       "mean   1.867121e+06  1.866750e+06  16755.217660     0.681822   2427.202074   \n",
       "std    6.958737e+06  3.315240e+06  14589.294487     0.212179   5482.365605   \n",
       "min    1.006540e+05  1.002000e+05   1002.000000     0.000000      0.000000   \n",
       "25%    1.740728e+05  3.229750e+05   3224.750000     0.550000    106.000000   \n",
       "50%    2.289995e+05  1.056050e+06  10542.000000     0.707600    401.000000   \n",
       "75%    4.506005e+05  3.025825e+06  30106.000000     0.838400   2018.750000   \n",
       "max    4.900540e+07  8.209884e+07  42698.000000     1.000000  77269.000000   \n",
       "\n",
       "       TUITIONFEE_IN  \n",
       "count    4021.000000  \n",
       "mean    15097.328277  \n",
       "std     12725.207303  \n",
       "min       480.000000  \n",
       "25%      5252.000000  \n",
       "50%     11330.000000  \n",
       "75%     19400.000000  \n",
       "max     74514.000000  "
      ]
     },
     "execution_count": 56,
     "metadata": {},
     "output_type": "execute_result"
    }
   ],
   "source": [
    "merged_df.describe()"
   ]
  },
  {
   "cell_type": "code",
   "execution_count": 57,
   "metadata": {},
   "outputs": [
    {
     "data": {
      "text/html": [
       "<div>\n",
       "<style scoped>\n",
       "    .dataframe tbody tr th:only-of-type {\n",
       "        vertical-align: middle;\n",
       "    }\n",
       "\n",
       "    .dataframe tbody tr th {\n",
       "        vertical-align: top;\n",
       "    }\n",
       "\n",
       "    .dataframe thead th {\n",
       "        text-align: right;\n",
       "    }\n",
       "</style>\n",
       "<table border=\"1\" class=\"dataframe\">\n",
       "  <thead>\n",
       "    <tr style=\"text-align: right;\">\n",
       "      <th></th>\n",
       "      <th>UNITID</th>\n",
       "      <th>OPEID</th>\n",
       "      <th>OPEID6</th>\n",
       "      <th>INSTNM</th>\n",
       "      <th>CITY</th>\n",
       "      <th>ZIP</th>\n",
       "      <th>ADM_RATE</th>\n",
       "      <th>UGDS</th>\n",
       "      <th>TUITIONFEE_IN</th>\n",
       "      <th>MD_EARN_WNE_P10</th>\n",
       "    </tr>\n",
       "  </thead>\n",
       "  <tbody>\n",
       "    <tr>\n",
       "      <th>356</th>\n",
       "      <td>117706</td>\n",
       "      <td>122600</td>\n",
       "      <td>1226</td>\n",
       "      <td>Los Angeles Pierce College</td>\n",
       "      <td>Woodland Hills</td>\n",
       "      <td>91371-0002</td>\n",
       "      <td>NaN</td>\n",
       "      <td>16439.0</td>\n",
       "      <td>1220.0</td>\n",
       "      <td>34900</td>\n",
       "    </tr>\n",
       "    <tr>\n",
       "      <th>3261</th>\n",
       "      <td>218919</td>\n",
       "      <td>345500</td>\n",
       "      <td>3455</td>\n",
       "      <td>Voorhees College</td>\n",
       "      <td>Denmark</td>\n",
       "      <td>29042</td>\n",
       "      <td>0.5344</td>\n",
       "      <td>475.0</td>\n",
       "      <td>12630.0</td>\n",
       "      <td>24500</td>\n",
       "    </tr>\n",
       "    <tr>\n",
       "      <th>2778</th>\n",
       "      <td>205142</td>\n",
       "      <td>2287900</td>\n",
       "      <td>22879</td>\n",
       "      <td>Raphael's School of Beauty Culture Inc-Niles</td>\n",
       "      <td>Niles</td>\n",
       "      <td>44446</td>\n",
       "      <td>NaN</td>\n",
       "      <td>135.0</td>\n",
       "      <td>NaN</td>\n",
       "      <td>16400</td>\n",
       "    </tr>\n",
       "    <tr>\n",
       "      <th>5958</th>\n",
       "      <td>475255</td>\n",
       "      <td>3030800</td>\n",
       "      <td>30308</td>\n",
       "      <td>American Broadcasting School-Online Program</td>\n",
       "      <td>Oklahoma City</td>\n",
       "      <td>73115</td>\n",
       "      <td>NaN</td>\n",
       "      <td>34.0</td>\n",
       "      <td>NaN</td>\n",
       "      <td>27900</td>\n",
       "    </tr>\n",
       "    <tr>\n",
       "      <th>4376</th>\n",
       "      <td>395690</td>\n",
       "      <td>2553600</td>\n",
       "      <td>25536</td>\n",
       "      <td>Diversified Vocational College</td>\n",
       "      <td>Los Angeles</td>\n",
       "      <td>90017-1604</td>\n",
       "      <td>NaN</td>\n",
       "      <td>655.0</td>\n",
       "      <td>NaN</td>\n",
       "      <td>21300</td>\n",
       "    </tr>\n",
       "  </tbody>\n",
       "</table>\n",
       "</div>"
      ],
      "text/plain": [
       "      UNITID    OPEID  OPEID6                                        INSTNM  \\\n",
       "356   117706   122600    1226                    Los Angeles Pierce College   \n",
       "3261  218919   345500    3455                              Voorhees College   \n",
       "2778  205142  2287900   22879  Raphael's School of Beauty Culture Inc-Niles   \n",
       "5958  475255  3030800   30308   American Broadcasting School-Online Program   \n",
       "4376  395690  2553600   25536                Diversified Vocational College   \n",
       "\n",
       "                CITY         ZIP  ADM_RATE     UGDS  TUITIONFEE_IN  \\\n",
       "356   Woodland Hills  91371-0002       NaN  16439.0         1220.0   \n",
       "3261         Denmark       29042    0.5344    475.0        12630.0   \n",
       "2778           Niles       44446       NaN    135.0            NaN   \n",
       "5958   Oklahoma City       73115       NaN     34.0            NaN   \n",
       "4376     Los Angeles  90017-1604       NaN    655.0            NaN   \n",
       "\n",
       "     MD_EARN_WNE_P10  \n",
       "356            34900  \n",
       "3261           24500  \n",
       "2778           16400  \n",
       "5958           27900  \n",
       "4376           21300  "
      ]
     },
     "execution_count": 57,
     "metadata": {},
     "output_type": "execute_result"
    }
   ],
   "source": [
    "merged_df.sample(5)"
   ]
  },
  {
   "cell_type": "code",
   "execution_count": 11,
   "metadata": {},
   "outputs": [
    {
     "data": {
      "text/html": [
       "<div>\n",
       "<style scoped>\n",
       "    .dataframe tbody tr th:only-of-type {\n",
       "        vertical-align: middle;\n",
       "    }\n",
       "\n",
       "    .dataframe tbody tr th {\n",
       "        vertical-align: top;\n",
       "    }\n",
       "\n",
       "    .dataframe thead th {\n",
       "        text-align: right;\n",
       "    }\n",
       "</style>\n",
       "<table border=\"1\" class=\"dataframe\">\n",
       "  <thead>\n",
       "    <tr style=\"text-align: right;\">\n",
       "      <th></th>\n",
       "      <th>UNITID</th>\n",
       "      <th>OPEID</th>\n",
       "      <th>OPEID6</th>\n",
       "      <th>INSTNM</th>\n",
       "      <th>CITY</th>\n",
       "      <th>ZIP</th>\n",
       "      <th>ADM_RATE</th>\n",
       "      <th>UGDS</th>\n",
       "      <th>TUITIONFEE_IN</th>\n",
       "      <th>MD_EARN_WNE_P10</th>\n",
       "    </tr>\n",
       "  </thead>\n",
       "  <tbody>\n",
       "    <tr>\n",
       "      <th>7107</th>\n",
       "      <td>48312404</td>\n",
       "      <td>108163</td>\n",
       "      <td>1081</td>\n",
       "      <td>Arizona State University at Yuma</td>\n",
       "      <td>Yuma</td>\n",
       "      <td>853656900</td>\n",
       "      <td>NaN</td>\n",
       "      <td>NaN</td>\n",
       "      <td>NaN</td>\n",
       "      <td>NaN</td>\n",
       "    </tr>\n",
       "    <tr>\n",
       "      <th>7108</th>\n",
       "      <td>48387801</td>\n",
       "      <td>4223701</td>\n",
       "      <td>42237</td>\n",
       "      <td>Bay Area Medical Academy - San Jose Satellite ...</td>\n",
       "      <td>San Jose</td>\n",
       "      <td>95113</td>\n",
       "      <td>NaN</td>\n",
       "      <td>NaN</td>\n",
       "      <td>NaN</td>\n",
       "      <td>NaN</td>\n",
       "    </tr>\n",
       "    <tr>\n",
       "      <th>7109</th>\n",
       "      <td>48400201</td>\n",
       "      <td>4228101</td>\n",
       "      <td>42281</td>\n",
       "      <td>High Desert Medical College</td>\n",
       "      <td>Lancaster</td>\n",
       "      <td>935340000</td>\n",
       "      <td>NaN</td>\n",
       "      <td>NaN</td>\n",
       "      <td>NaN</td>\n",
       "      <td>NaN</td>\n",
       "    </tr>\n",
       "    <tr>\n",
       "      <th>7110</th>\n",
       "      <td>48778201</td>\n",
       "      <td>4221501</td>\n",
       "      <td>42215</td>\n",
       "      <td>BCI - Malden</td>\n",
       "      <td>Malden</td>\n",
       "      <td>021480000</td>\n",
       "      <td>NaN</td>\n",
       "      <td>NaN</td>\n",
       "      <td>NaN</td>\n",
       "      <td>NaN</td>\n",
       "    </tr>\n",
       "    <tr>\n",
       "      <th>7111</th>\n",
       "      <td>49005401</td>\n",
       "      <td>4182601</td>\n",
       "      <td>41826</td>\n",
       "      <td>Health Career Institute- Lauderdale Lakes</td>\n",
       "      <td>Lauderdale Lakes</td>\n",
       "      <td>333137268</td>\n",
       "      <td>NaN</td>\n",
       "      <td>NaN</td>\n",
       "      <td>22575.0</td>\n",
       "      <td>NaN</td>\n",
       "    </tr>\n",
       "  </tbody>\n",
       "</table>\n",
       "</div>"
      ],
      "text/plain": [
       "        UNITID    OPEID  OPEID6  \\\n",
       "7107  48312404   108163    1081   \n",
       "7108  48387801  4223701   42237   \n",
       "7109  48400201  4228101   42281   \n",
       "7110  48778201  4221501   42215   \n",
       "7111  49005401  4182601   41826   \n",
       "\n",
       "                                                 INSTNM              CITY  \\\n",
       "7107                   Arizona State University at Yuma              Yuma   \n",
       "7108  Bay Area Medical Academy - San Jose Satellite ...          San Jose   \n",
       "7109                        High Desert Medical College         Lancaster   \n",
       "7110                                       BCI - Malden            Malden   \n",
       "7111          Health Career Institute- Lauderdale Lakes  Lauderdale Lakes   \n",
       "\n",
       "            ZIP  ADM_RATE  UGDS  TUITIONFEE_IN MD_EARN_WNE_P10  \n",
       "7107  853656900       NaN   NaN            NaN             NaN  \n",
       "7108      95113       NaN   NaN            NaN             NaN  \n",
       "7109  935340000       NaN   NaN            NaN             NaN  \n",
       "7110  021480000       NaN   NaN            NaN             NaN  \n",
       "7111  333137268       NaN   NaN        22575.0             NaN  "
      ]
     },
     "execution_count": 11,
     "metadata": {},
     "output_type": "execute_result"
    }
   ],
   "source": [
    "merged_df.tail()"
   ]
  },
  {
   "cell_type": "code",
   "execution_count": 36,
   "metadata": {
    "colab": {},
    "colab_type": "code",
    "id": "kHZinqMNwtIQ"
   },
   "outputs": [
    {
     "data": {
      "text/html": [
       "<div>\n",
       "<style scoped>\n",
       "    .dataframe tbody tr th:only-of-type {\n",
       "        vertical-align: middle;\n",
       "    }\n",
       "\n",
       "    .dataframe tbody tr th {\n",
       "        vertical-align: top;\n",
       "    }\n",
       "\n",
       "    .dataframe thead th {\n",
       "        text-align: right;\n",
       "    }\n",
       "</style>\n",
       "<table border=\"1\" class=\"dataframe\">\n",
       "  <thead>\n",
       "    <tr style=\"text-align: right;\">\n",
       "      <th></th>\n",
       "      <th>UNITID</th>\n",
       "      <th>OPEID</th>\n",
       "      <th>OPEID6</th>\n",
       "      <th>INSTNM</th>\n",
       "      <th>CITY</th>\n",
       "      <th>ZIP</th>\n",
       "      <th>ADM_RATE</th>\n",
       "      <th>UGDS</th>\n",
       "      <th>TUITIONFEE_IN</th>\n",
       "      <th>MD_EARN_WNE_P10</th>\n",
       "    </tr>\n",
       "  </thead>\n",
       "  <tbody>\n",
       "    <tr>\n",
       "      <th>2978</th>\n",
       "      <td>211893</td>\n",
       "      <td>325100</td>\n",
       "      <td>3251</td>\n",
       "      <td>Curtis Institute of Music</td>\n",
       "      <td>Philadelphia</td>\n",
       "      <td>19103</td>\n",
       "      <td>0.0330</td>\n",
       "      <td>131.0</td>\n",
       "      <td>2675.0</td>\n",
       "      <td>PrivacySuppressed</td>\n",
       "    </tr>\n",
       "    <tr>\n",
       "      <th>3979</th>\n",
       "      <td>243744</td>\n",
       "      <td>130500</td>\n",
       "      <td>1305</td>\n",
       "      <td>Stanford University</td>\n",
       "      <td>Stanford</td>\n",
       "      <td>94305</td>\n",
       "      <td>0.0473</td>\n",
       "      <td>7056.0</td>\n",
       "      <td>49617.0</td>\n",
       "      <td>94000</td>\n",
       "    </tr>\n",
       "    <tr>\n",
       "      <th>1557</th>\n",
       "      <td>166027</td>\n",
       "      <td>215500</td>\n",
       "      <td>2155</td>\n",
       "      <td>Harvard University</td>\n",
       "      <td>Cambridge</td>\n",
       "      <td>02138</td>\n",
       "      <td>0.0516</td>\n",
       "      <td>7532.0</td>\n",
       "      <td>48949.0</td>\n",
       "      <td>89700</td>\n",
       "    </tr>\n",
       "    <tr>\n",
       "      <th>2302</th>\n",
       "      <td>192110</td>\n",
       "      <td>274200</td>\n",
       "      <td>2742</td>\n",
       "      <td>The Juilliard School</td>\n",
       "      <td>New York</td>\n",
       "      <td>10023-6588</td>\n",
       "      <td>0.0592</td>\n",
       "      <td>486.0</td>\n",
       "      <td>43170.0</td>\n",
       "      <td>32800</td>\n",
       "    </tr>\n",
       "    <tr>\n",
       "      <th>2123</th>\n",
       "      <td>186131</td>\n",
       "      <td>262700</td>\n",
       "      <td>2627</td>\n",
       "      <td>Princeton University</td>\n",
       "      <td>Princeton</td>\n",
       "      <td>08544-0070</td>\n",
       "      <td>0.0641</td>\n",
       "      <td>5246.0</td>\n",
       "      <td>47140.0</td>\n",
       "      <td>74700</td>\n",
       "    </tr>\n",
       "    <tr>\n",
       "      <th>2233</th>\n",
       "      <td>190150</td>\n",
       "      <td>270700</td>\n",
       "      <td>2707</td>\n",
       "      <td>Columbia University in the City of New York</td>\n",
       "      <td>New York</td>\n",
       "      <td>10027</td>\n",
       "      <td>0.0661</td>\n",
       "      <td>8170.0</td>\n",
       "      <td>57208.0</td>\n",
       "      <td>83300</td>\n",
       "    </tr>\n",
       "    <tr>\n",
       "      <th>633</th>\n",
       "      <td>130794</td>\n",
       "      <td>142600</td>\n",
       "      <td>1426</td>\n",
       "      <td>Yale University</td>\n",
       "      <td>New Haven</td>\n",
       "      <td>06520</td>\n",
       "      <td>0.0693</td>\n",
       "      <td>5742.0</td>\n",
       "      <td>51400.0</td>\n",
       "      <td>83200</td>\n",
       "    </tr>\n",
       "    <tr>\n",
       "      <th>1575</th>\n",
       "      <td>166683</td>\n",
       "      <td>217800</td>\n",
       "      <td>2178</td>\n",
       "      <td>Massachusetts Institute of Technology</td>\n",
       "      <td>Cambridge</td>\n",
       "      <td>02139-4307</td>\n",
       "      <td>0.0717</td>\n",
       "      <td>4489.0</td>\n",
       "      <td>49892.0</td>\n",
       "      <td>104700</td>\n",
       "    </tr>\n",
       "    <tr>\n",
       "      <th>212</th>\n",
       "      <td>110404</td>\n",
       "      <td>113100</td>\n",
       "      <td>1131</td>\n",
       "      <td>California Institute of Technology</td>\n",
       "      <td>Pasadena</td>\n",
       "      <td>91125</td>\n",
       "      <td>0.0774</td>\n",
       "      <td>961.0</td>\n",
       "      <td>49908.0</td>\n",
       "      <td>85900</td>\n",
       "    </tr>\n",
       "    <tr>\n",
       "      <th>427</th>\n",
       "      <td>121345</td>\n",
       "      <td>117300</td>\n",
       "      <td>1173</td>\n",
       "      <td>Pomona College</td>\n",
       "      <td>Claremont</td>\n",
       "      <td>91711-6319</td>\n",
       "      <td>0.0836</td>\n",
       "      <td>1567.0</td>\n",
       "      <td>51075.0</td>\n",
       "      <td>58100</td>\n",
       "    </tr>\n",
       "  </tbody>\n",
       "</table>\n",
       "</div>"
      ],
      "text/plain": [
       "      UNITID   OPEID  OPEID6                                       INSTNM  \\\n",
       "2978  211893  325100    3251                    Curtis Institute of Music   \n",
       "3979  243744  130500    1305                          Stanford University   \n",
       "1557  166027  215500    2155                           Harvard University   \n",
       "2302  192110  274200    2742                         The Juilliard School   \n",
       "2123  186131  262700    2627                         Princeton University   \n",
       "2233  190150  270700    2707  Columbia University in the City of New York   \n",
       "633   130794  142600    1426                              Yale University   \n",
       "1575  166683  217800    2178        Massachusetts Institute of Technology   \n",
       "212   110404  113100    1131           California Institute of Technology   \n",
       "427   121345  117300    1173                               Pomona College   \n",
       "\n",
       "              CITY         ZIP  ADM_RATE    UGDS  TUITIONFEE_IN  \\\n",
       "2978  Philadelphia       19103    0.0330   131.0         2675.0   \n",
       "3979      Stanford       94305    0.0473  7056.0        49617.0   \n",
       "1557     Cambridge       02138    0.0516  7532.0        48949.0   \n",
       "2302      New York  10023-6588    0.0592   486.0        43170.0   \n",
       "2123     Princeton  08544-0070    0.0641  5246.0        47140.0   \n",
       "2233      New York       10027    0.0661  8170.0        57208.0   \n",
       "633      New Haven       06520    0.0693  5742.0        51400.0   \n",
       "1575     Cambridge  02139-4307    0.0717  4489.0        49892.0   \n",
       "212       Pasadena       91125    0.0774   961.0        49908.0   \n",
       "427      Claremont  91711-6319    0.0836  1567.0        51075.0   \n",
       "\n",
       "        MD_EARN_WNE_P10  \n",
       "2978  PrivacySuppressed  \n",
       "3979              94000  \n",
       "1557              89700  \n",
       "2302              32800  \n",
       "2123              74700  \n",
       "2233              83300  \n",
       "633               83200  \n",
       "1575             104700  \n",
       "212               85900  \n",
       "427               58100  "
      ]
     },
     "execution_count": 36,
     "metadata": {},
     "output_type": "execute_result"
    }
   ],
   "source": [
    "# <7>\n",
    "# Find out the top 100 colleges that are hardest to get in (Top 100) from this new file\n",
    "# (Write code here)\n",
    "\n",
    "df_temp = merged_df[merged_df['ADM_RATE'] != 0]\n",
    "df_temp = df_temp.sort_values(by=[\"ADM_RATE\"], ascending=True).head(100)\n",
    "df_temp.head(10)"
   ]
  },
  {
   "cell_type": "code",
   "execution_count": 37,
   "metadata": {
    "colab": {},
    "colab_type": "code",
    "id": "UD32npV8wtIU"
   },
   "outputs": [
    {
     "data": {
      "text/plain": [
       "count    100.000000\n",
       "mean       0.179126\n",
       "std        0.068750\n",
       "min        0.033000\n",
       "25%        0.126375\n",
       "50%        0.194600\n",
       "75%        0.240150\n",
       "max        0.279900\n",
       "Name: ADM_RATE, dtype: float64"
      ]
     },
     "execution_count": 37,
     "metadata": {},
     "output_type": "execute_result"
    }
   ],
   "source": [
    "# <8>\n",
    "# Display the summary statistics of the in-state tuitions of the top 100 colleges that are hardest to get in\n",
    "# (Write code here)\n",
    "\n",
    "df_temp['ADM_RATE'].describe()"
   ]
  },
  {
   "cell_type": "code",
   "execution_count": 39,
   "metadata": {
    "colab": {},
    "colab_type": "code",
    "id": "4UwhZr7uwtIX"
   },
   "outputs": [
    {
     "data": {
      "text/plain": [
       "<matplotlib.axes._subplots.AxesSubplot at 0x2d1fd1964e0>"
      ]
     },
     "execution_count": 39,
     "metadata": {},
     "output_type": "execute_result"
    },
    {
     "data": {
      "image/png": "[encoded data removed]",
      "text/plain": [
       "<Figure size 432x288 with 1 Axes>"
      ]
     },
     "metadata": {
      "needs_background": "light"
     },
     "output_type": "display_data"
    }
   ],
   "source": [
    "# <9>\n",
    "# Display the histogram of the in-state tuitions of the top 100 colleges that are hardest to get in\n",
    "# (Write code here)\n",
    "\n",
    "df_temp['TUITIONFEE_IN'].hist()"
   ]
  },
  {
   "cell_type": "code",
   "execution_count": 40,
   "metadata": {
    "colab": {},
    "colab_type": "code",
    "id": "QCZzQu2QwtIZ"
   },
   "outputs": [
    {
     "data": {
      "text/plain": [
       "count        89.000000\n",
       "mean      60975.280899\n",
       "std       18845.208463\n",
       "min       25400.000000\n",
       "25%       49700.000000\n",
       "50%       61200.000000\n",
       "75%       74000.000000\n",
       "max      104700.000000\n",
       "Name: MD_EARN_WNE_P10, dtype: float64"
      ]
     },
     "execution_count": 40,
     "metadata": {},
     "output_type": "execute_result"
    }
   ],
   "source": [
    "# <10>\n",
    "# Display the summary statistics of the earning potentials of the top 100 colleges that are hardest to get in\n",
    "# (Write code here)\n",
    "\n",
    "df_temp['MD_EARN_WNE_P10'] = pd.to_numeric(df_temp['MD_EARN_WNE_P10'], errors='coerce')\n",
    "df_temp['MD_EARN_WNE_P10'].describe()"
   ]
  },
  {
   "cell_type": "code",
   "execution_count": 41,
   "metadata": {
    "colab": {},
    "colab_type": "code",
    "id": "anSvKwsewtId"
   },
   "outputs": [
    {
     "data": {
      "text/plain": [
       "<matplotlib.axes._subplots.AxesSubplot at 0x2d1fd189ac8>"
      ]
     },
     "execution_count": 41,
     "metadata": {},
     "output_type": "execute_result"
    },
    {
     "data": {
      "image/png": "[encoded data removed]",
      "text/plain": [
       "<Figure size 432x288 with 1 Axes>"
      ]
     },
     "metadata": {
      "needs_background": "light"
     },
     "output_type": "display_data"
    }
   ],
   "source": [
    "# <11>\n",
    "# Display the histogram of the earning potentials of the top 100 colleges that are hardest to get in\n",
    "# (Write code here)\n",
    "\n",
    "df_temp['MD_EARN_WNE_P10'].hist()"
   ]
  },
  {
   "cell_type": "code",
   "execution_count": 43,
   "metadata": {
    "colab": {},
    "colab_type": "code",
    "id": "59_ol471wtIg"
   },
   "outputs": [
    {
     "data": {
      "text/plain": [
       "<matplotlib.axes._subplots.AxesSubplot at 0x2d1fd528c18>"
      ]
     },
     "execution_count": 43,
     "metadata": {},
     "output_type": "execute_result"
    },
    {
     "data": {
      "image/png": "[encoded data removed]",
      "text/plain": [
       "<Figure size 432x288 with 1 Axes>"
      ]
     },
     "metadata": {
      "needs_background": "light"
     },
     "output_type": "display_data"
    }
   ],
   "source": [
    "# <12>\n",
    "# Make a scatter plot of the in-state tuition and the median graduate earnings of \n",
    "# the top 100 colleges that are hardest to get in\n",
    "# using Pandas\n",
    "# (Write code here)\n",
    "\n",
    "df_temp.plot.scatter(x = 'TUITIONFEE_IN', y = 'MD_EARN_WNE_P10')"
   ]
  },
  {
   "cell_type": "code",
   "execution_count": 44,
   "metadata": {
    "colab": {},
    "colab_type": "code",
    "id": "FKgN5G-rwtIi"
   },
   "outputs": [
    {
     "data": {
      "text/plain": [
       "<matplotlib.collections.PathCollection at 0x2d1fd5ba908>"
      ]
     },
     "execution_count": 44,
     "metadata": {},
     "output_type": "execute_result"
    },
    {
     "data": {
      "image/png": "[encoded data removed]",
      "text/plain": [
       "<Figure size 1440x864 with 1 Axes>"
      ]
     },
     "metadata": {
      "needs_background": "light"
     },
     "output_type": "display_data"
    }
   ],
   "source": [
    "# <13>\n",
    "# Make a scatter plot of the in-state tuition and the median graduate earnings of \n",
    "# the top 100 colleges that are hardest to get in\n",
    "# using Matplotlib\n",
    "# (Write code here)\n",
    "\n",
    "plt.figure(figsize=(20, 12))\n",
    "plt.scatter(df_temp['TUITIONFEE_IN'], df_temp['MD_EARN_WNE_P10'])"
   ]
  },
  {
   "cell_type": "code",
   "execution_count": 59,
   "metadata": {
    "colab": {},
    "colab_type": "code",
    "id": "lQkOKC54wtIk"
   },
   "outputs": [
    {
     "data": {
      "text/plain": [
       "<matplotlib.axes._subplots.AxesSubplot at 0x2d1fde4d748>"
      ]
     },
     "execution_count": 59,
     "metadata": {},
     "output_type": "execute_result"
    },
    {
     "data": {
      "image/png": "[encoded data removed]",
      "text/plain": [
       "<Figure size 432x288 with 1 Axes>"
      ]
     },
     "metadata": {
      "needs_background": "light"
     },
     "output_type": "display_data"
    }
   ],
   "source": [
    "# <14>\n",
    "# Make a scatter plot of the in-state tuition and the median graduate earnings of \n",
    "# the top 100 colleges that are hardest to get in\n",
    "# using Seaborn\n",
    "# (Write code here)\n",
    "\n",
    "sns.scatterplot(df_temp['TUITIONFEE_IN'], df_temp['MD_EARN_WNE_P10'])"
   ]
  },
  {
   "cell_type": "code",
   "execution_count": 60,
   "metadata": {
    "colab": {},
    "colab_type": "code",
    "id": "dm-Hy1-jwtIm"
   },
   "outputs": [],
   "source": [
    "# <15> \n",
    "# Your observation/conclusion of the scatter plot (use the following Markdown cell)"
   ]
  },
  {
   "cell_type": "markdown",
   "metadata": {
    "colab_type": "text",
    "id": "ksJFdaPdwtIp"
   },
   "source": [
    "### According to scatter plot shown above for In-state tuition fees vs Median graduate earnings of top 100 colleges that are hardest to get in, I think for colleges that have higher tuition fees, mostly their graduates have higher earnings as compared to lower tuition fees colleges."
   ]
  },
  {
   "cell_type": "code",
   "execution_count": null,
   "metadata": {
    "colab": {},
    "colab_type": "code",
    "id": "y-QOPE6UwtIq"
   },
   "outputs": [],
   "source": []
  }
 ],
 "metadata": {
  "colab": {
   "include_colab_link": true,
   "name": "Assignment-04.ipynb",
   "provenance": []
  },
  "kernelspec": {
   "display_name": "Python 3",
   "language": "python",
   "name": "python3"
  },
  "language_info": {
   "codemirror_mode": {
    "name": "ipython",
    "version": 3
   },
   "file_extension": ".py",
   "mimetype": "text/x-python",
   "name": "python",
   "nbconvert_exporter": "python",
   "pygments_lexer": "ipython3",
   "version": "3.7.3"
  }
 },
 "nbformat": 4,
 "nbformat_minor": 4
}
