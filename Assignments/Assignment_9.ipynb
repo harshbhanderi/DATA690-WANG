{
  "nbformat": 4,
  "nbformat_minor": 0,
  "metadata": {
    "colab": {
      "name": "Assignment_9.ipynb",
      "provenance": [],
      "authorship_tag": "ABX9TyO/2Z2zsXiJ/1UYYJGYCsab",
      "include_colab_link": true
    },
    "kernelspec": {
      "name": "python3",
      "display_name": "Python 3"
    }
  },
  "cells": [
    {
      "cell_type": "markdown",
      "metadata": {
        "id": "view-in-github",
        "colab_type": "text"
      },
      "source": [
        "<a href=\"https://colab.research.google.com/github/harshbhanderi/DATA690-WANG/blob/master/Assignments/Assignment_9.ipynb\" target=\"_parent\"><img src=\"https://colab.research.google.com/assets/colab-badge.svg\" alt=\"Open In Colab\"/></a>"
      ]
    },
    {
      "cell_type": "markdown",
      "metadata": {
        "id": "_keBiBcYYvG-",
        "colab_type": "text"
      },
      "source": [
        "## Assigment 9\n",
        "\n",
        "#### - Harsh Bhanderi"
      ]
    },
    {
      "cell_type": "markdown",
      "metadata": {
        "id": "bYkCI2dGYtzZ",
        "colab_type": "text"
      },
      "source": [
        "A random survey of enrollment at 35 community colleges across the United States yielded the following figures:\n",
        "\n",
        "6,414; 1,550; 2,109; 9,350; 21,828; 4,300; 5,944; 5,722; 2,825; 2,044;\n",
        "\n",
        "5,481; 5,200; 5,853; 2,750; 10,012; 6,357; 27,000; 9,414; 7,681; 3,200;\n",
        "\n",
        "17,500; 9,200; 7,380; 18,314; 6,557; 13,713; 17,768; 7,493; 2,771; 2,861;\n",
        "\n",
        "1,263; 7,285; 28,165; 5,080; 11,622"
      ]
    },
    {
      "cell_type": "markdown",
      "metadata": {
        "id": "b1gPeB1vJv-H",
        "colab_type": "text"
      },
      "source": [
        "Perform point estimate and interval estimate of average enrollment of US community colleges with 95% confidence level.\n",
        "\n",
        "Since we don't know the population variance, we use t-distribution instead of normal distribution."
      ]
    },
    {
      "cell_type": "code",
      "metadata": {
        "id": "CVik0FM-IRNX",
        "colab_type": "code",
        "colab": {}
      },
      "source": [
        "import numpy as np\n",
        "import pandas as pd\n",
        "import scipy.stats as stats\n",
        "import math"
      ],
      "execution_count": 0,
      "outputs": []
    },
    {
      "cell_type": "code",
      "metadata": {
        "id": "4Zd-SqkdITwC",
        "colab_type": "code",
        "colab": {}
      },
      "source": [
        "population = [6414, 1550, 2109, 9350, 21828, 4300, 5944, 5722, 2825, 2044,\n",
        "\n",
        "5481, 5200, 5853, 2750, 10012, 6357, 27000, 9414, 7681, 3200,\n",
        "\n",
        "17500, 9200, 7380, 18314, 6557, 13713, 17768, 7493, 2771, 2861,\n",
        "\n",
        "1263, 7285, 28165, 5080, 11622]"
      ],
      "execution_count": 0,
      "outputs": []
    },
    {
      "cell_type": "code",
      "metadata": {
        "id": "0Q9zTaTpIa6J",
        "colab_type": "code",
        "colab": {
          "base_uri": "https://localhost:8080/",
          "height": 34
        },
        "outputId": "5b40d344-7d83-4e09-d9c7-1e3dce368767"
      },
      "source": [
        "type(population)"
      ],
      "execution_count": 38,
      "outputs": [
        {
          "output_type": "execute_result",
          "data": {
            "text/plain": [
              "list"
            ]
          },
          "metadata": {
            "tags": []
          },
          "execution_count": 38
        }
      ]
    },
    {
      "cell_type": "markdown",
      "metadata": {
        "id": "y9XGyKX1TyvB",
        "colab_type": "text"
      },
      "source": [
        "## Method 1"
      ]
    },
    {
      "cell_type": "code",
      "metadata": {
        "id": "NujqYOIAI8R1",
        "colab_type": "code",
        "colab": {
          "base_uri": "https://localhost:8080/",
          "height": 34
        },
        "outputId": "5e0d5506-3aa6-4b4c-a3ff-c9cab4d3b2a4"
      },
      "source": [
        "np.mean(population)"
      ],
      "execution_count": 39,
      "outputs": [
        {
          "output_type": "execute_result",
          "data": {
            "text/plain": [
              "8628.742857142857"
            ]
          },
          "metadata": {
            "tags": []
          },
          "execution_count": 39
        }
      ]
    },
    {
      "cell_type": "code",
      "metadata": {
        "id": "r8R0EaZ0JDuv",
        "colab_type": "code",
        "colab": {}
      },
      "source": [
        "def mean_confidence_interval(data, confidence=0.95):\n",
        "    a = 1.0 * np.array(data)\n",
        "    n = len(a)\n",
        "    m, se = np.mean(a), stats.sem(a)\n",
        "    h = se * stats.t.ppf((1 + confidence) / 2., n-1)\n",
        "    return m, m-h, m+h"
      ],
      "execution_count": 0,
      "outputs": []
    },
    {
      "cell_type": "code",
      "metadata": {
        "id": "Icnh6WReKU-p",
        "colab_type": "code",
        "colab": {}
      },
      "source": [
        "mean, interval_min, interval_max = mean_confidence_interval(population)"
      ],
      "execution_count": 0,
      "outputs": []
    },
    {
      "cell_type": "code",
      "metadata": {
        "id": "g2fkAr6EKdpi",
        "colab_type": "code",
        "colab": {
          "base_uri": "https://localhost:8080/",
          "height": 68
        },
        "outputId": "274a0407-1a96-4ff0-d869-1f3727794a3b"
      },
      "source": [
        "print('mean : ', mean,'\\nLower Interval : ', interval_min, '\\nUpper Interval : ', interval_max)"
      ],
      "execution_count": 42,
      "outputs": [
        {
          "output_type": "stream",
          "text": [
            "mean :  8628.742857142857 \n",
            "Lower Interval :  6243.435065625621 \n",
            "Upper Interval :  11014.050648660093\n"
          ],
          "name": "stdout"
        }
      ]
    },
    {
      "cell_type": "markdown",
      "metadata": {
        "id": "m9KGdFozTsaO",
        "colab_type": "text"
      },
      "source": [
        "## Method 2"
      ]
    },
    {
      "cell_type": "code",
      "metadata": {
        "id": "l_Hajv1uTUIz",
        "colab_type": "code",
        "colab": {
          "base_uri": "https://localhost:8080/",
          "height": 34
        },
        "outputId": "3d595d85-a3db-4e1f-d8cb-e78ac6715ab4"
      },
      "source": [
        "sample_mean = round(np.mean(population),2)\n",
        "print(\"Sample mean =\", sample_mean)"
      ],
      "execution_count": 43,
      "outputs": [
        {
          "output_type": "stream",
          "text": [
            "Sample mean = 8628.74\n"
          ],
          "name": "stdout"
        }
      ]
    },
    {
      "cell_type": "code",
      "metadata": {
        "id": "SZDl4bYSSsdU",
        "colab_type": "code",
        "colab": {
          "base_uri": "https://localhost:8080/",
          "height": 34
        },
        "outputId": "3e5cc4b4-e4af-4404-cea1-713648240ca0"
      },
      "source": [
        "t_value = stats.t.ppf(0.975, 15)\n",
        "print(\"t critical value or t statistics = \", round(t_value,2))"
      ],
      "execution_count": 44,
      "outputs": [
        {
          "output_type": "stream",
          "text": [
            "t critical value or t statistics =  2.13\n"
          ],
          "name": "stdout"
        }
      ]
    },
    {
      "cell_type": "code",
      "metadata": {
        "id": "XN1R1qSzS1mv",
        "colab_type": "code",
        "colab": {
          "base_uri": "https://localhost:8080/",
          "height": 34
        },
        "outputId": "9e175eb7-142f-4fe2-cc43-a2b8f8d05b20"
      },
      "source": [
        "sample_std = np.std(population, ddof=1) \n",
        "sample_std = round(sample_std, 2)         \n",
        "print(\"Sample Standard Deviation =\", sample_std)"
      ],
      "execution_count": 45,
      "outputs": [
        {
          "output_type": "stream",
          "text": [
            "Sample Standard Deviation = 6943.88\n"
          ],
          "name": "stdout"
        }
      ]
    },
    {
      "cell_type": "code",
      "metadata": {
        "id": "r23DMwu_S9KT",
        "colab_type": "code",
        "colab": {
          "base_uri": "https://localhost:8080/",
          "height": 34
        },
        "outputId": "c36100c9-06ca-4aa2-b37d-b28f364f15a5"
      },
      "source": [
        "# Calculate Sample Standard Error\n",
        "\n",
        "sample_std_err = sample_std / math.sqrt(len(population))\n",
        "sample_std_err = round(sample_std_err,2)\n",
        "print(\"Sample Standard Error is\", sample_std_err)"
      ],
      "execution_count": 46,
      "outputs": [
        {
          "output_type": "stream",
          "text": [
            "Sample Standard Error is 1173.73\n"
          ],
          "name": "stdout"
        }
      ]
    },
    {
      "cell_type": "code",
      "metadata": {
        "id": "os9pf3SwS5El",
        "colab_type": "code",
        "colab": {
          "base_uri": "https://localhost:8080/",
          "height": 34
        },
        "outputId": "5b2944b5-3c41-4d58-dad3-69fab769ee02"
      },
      "source": [
        "margin_of_error = round(t_value * sample_std_err,2) \n",
        "print(\"Margin of Error =\", margin_of_error)"
      ],
      "execution_count": 47,
      "outputs": [
        {
          "output_type": "stream",
          "text": [
            "Margin of Error = 2501.75\n"
          ],
          "name": "stdout"
        }
      ]
    },
    {
      "cell_type": "code",
      "metadata": {
        "id": "a2CfZCPtTKW_",
        "colab_type": "code",
        "colab": {
          "base_uri": "https://localhost:8080/",
          "height": 34
        },
        "outputId": "8184fa23-1f3b-4b75-e708-76df32ca4c56"
      },
      "source": [
        "lower_limit = sample_mean - margin_of_error\n",
        "print (\"Lower Limit = \", lower_limit)"
      ],
      "execution_count": 48,
      "outputs": [
        {
          "output_type": "stream",
          "text": [
            "Lower Limit =  6126.99\n"
          ],
          "name": "stdout"
        }
      ]
    },
    {
      "cell_type": "code",
      "metadata": {
        "id": "qYSYQmotTQUg",
        "colab_type": "code",
        "colab": {
          "base_uri": "https://localhost:8080/",
          "height": 34
        },
        "outputId": "0c32a5ad-b122-4533-e4b7-270563042f59"
      },
      "source": [
        "upper_limit = sample_mean + margin_of_error\n",
        "print (\"Upper Limit = \", upper_limit)"
      ],
      "execution_count": 49,
      "outputs": [
        {
          "output_type": "stream",
          "text": [
            "Upper Limit =  11130.49\n"
          ],
          "name": "stdout"
        }
      ]
    },
    {
      "cell_type": "code",
      "metadata": {
        "id": "f2JX8se5TRKR",
        "colab_type": "code",
        "colab": {
          "base_uri": "https://localhost:8080/",
          "height": 34
        },
        "outputId": "897060fd-fb1f-4c04-9be8-3509eb119ab7"
      },
      "source": [
        "print(\"The 95% Confidence Interval Estimate of American Annual Beef Consumption = (\", lower_limit, \",\", upper_limit, \")\")"
      ],
      "execution_count": 50,
      "outputs": [
        {
          "output_type": "stream",
          "text": [
            "The 95% Confidence Interval Estimate of American Annual Beef Consumption = ( 6126.99 , 11130.49 )\n"
          ],
          "name": "stdout"
        }
      ]
    },
    {
      "cell_type": "code",
      "metadata": {
        "id": "6XDboJPeTp2a",
        "colab_type": "code",
        "colab": {}
      },
      "source": [
        ""
      ],
      "execution_count": 0,
      "outputs": []
    }
  ]
}