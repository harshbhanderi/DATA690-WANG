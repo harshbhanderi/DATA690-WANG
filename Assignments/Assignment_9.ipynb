{
  "nbformat": 4,
  "nbformat_minor": 0,
  "metadata": {
    "colab": {
      "name": "Assignment_9.ipynb",
      "provenance": [],
      "authorship_tag": "ABX9TyNaZawc8U+3i338a2PQJjji",
      "include_colab_link": true
    },
    "kernelspec": {
      "name": "python3",
      "display_name": "Python 3"
    }
  },
  "cells": [
    {
      "cell_type": "markdown",
      "metadata": {
        "id": "view-in-github",
        "colab_type": "text"
      },
      "source": [
        "<a href=\"https://colab.research.google.com/github/harshbhanderi/DATA690-WANG/blob/master/Assignments/Assignment_9.ipynb\" target=\"_parent\"><img src=\"https://colab.research.google.com/assets/colab-badge.svg\" alt=\"Open In Colab\"/></a>"
      ]
    },
    {
      "cell_type": "code",
      "metadata": {
        "id": "tVsD0dDxJqbg",
        "colab_type": "code",
        "colab": {}
      },
      "source": [
        ""
      ],
      "execution_count": 0,
      "outputs": []
    },
    {
      "cell_type": "markdown",
      "metadata": {
        "id": "b1gPeB1vJv-H",
        "colab_type": "text"
      },
      "source": [
        "Perform point estimate and interval estimate of average enrollment of US community colleges with 95% confidence level.\n",
        "\n",
        "Since we don't know the population variance, we use t-distribution instead of normal distribution."
      ]
    },
    {
      "cell_type": "code",
      "metadata": {
        "id": "CVik0FM-IRNX",
        "colab_type": "code",
        "colab": {}
      },
      "source": [
        "import numpy as np\n",
        "import pandas as pd\n",
        "import scipy.stats as stats\n",
        "import math"
      ],
      "execution_count": 0,
      "outputs": []
    },
    {
      "cell_type": "code",
      "metadata": {
        "id": "4Zd-SqkdITwC",
        "colab_type": "code",
        "colab": {}
      },
      "source": [
        "population = [6414, 1550, 2109, 9350, 21828, 4300, 5944, 5722, 2825, 2044,\n",
        "\n",
        "5481, 5200, 5853, 2750, 10012, 6357, 27000, 9414, 7681, 3200,\n",
        "\n",
        "17500, 9200, 7380, 18314, 6557, 13713, 17768, 7493, 2771, 2861,\n",
        "\n",
        "1263, 7285, 28165, 5080, 11622]"
      ],
      "execution_count": 0,
      "outputs": []
    },
    {
      "cell_type": "code",
      "metadata": {
        "id": "0Q9zTaTpIa6J",
        "colab_type": "code",
        "colab": {
          "base_uri": "https://localhost:8080/",
          "height": 34
        },
        "outputId": "702d6e2a-0d8f-421d-e9a9-0effdf256fdc"
      },
      "source": [
        "type(population)"
      ],
      "execution_count": 20,
      "outputs": [
        {
          "output_type": "execute_result",
          "data": {
            "text/plain": [
              "list"
            ]
          },
          "metadata": {
            "tags": []
          },
          "execution_count": 20
        }
      ]
    },
    {
      "cell_type": "markdown",
      "metadata": {
        "id": "y9XGyKX1TyvB",
        "colab_type": "text"
      },
      "source": [
        "## Method 1"
      ]
    },
    {
      "cell_type": "code",
      "metadata": {
        "id": "NujqYOIAI8R1",
        "colab_type": "code",
        "colab": {
          "base_uri": "https://localhost:8080/",
          "height": 34
        },
        "outputId": "2242668d-dd43-4177-868f-5717ed344498"
      },
      "source": [
        "np.mean(population)"
      ],
      "execution_count": 21,
      "outputs": [
        {
          "output_type": "execute_result",
          "data": {
            "text/plain": [
              "8628.742857142857"
            ]
          },
          "metadata": {
            "tags": []
          },
          "execution_count": 21
        }
      ]
    },
    {
      "cell_type": "code",
      "metadata": {
        "id": "r8R0EaZ0JDuv",
        "colab_type": "code",
        "colab": {}
      },
      "source": [
        "def mean_confidence_interval(data, confidence=0.95):\n",
        "    a = 1.0 * np.array(data)\n",
        "    n = len(a)\n",
        "    m, se = np.mean(a), stats.sem(a)\n",
        "    h = se * stats.t.ppf((1 + confidence) / 2., n-1)\n",
        "    return m, m-h, m+h"
      ],
      "execution_count": 0,
      "outputs": []
    },
    {
      "cell_type": "code",
      "metadata": {
        "id": "Icnh6WReKU-p",
        "colab_type": "code",
        "colab": {}
      },
      "source": [
        "mean, interval_min, interval_max = mean_confidence_interval(population)"
      ],
      "execution_count": 0,
      "outputs": []
    },
    {
      "cell_type": "code",
      "metadata": {
        "id": "g2fkAr6EKdpi",
        "colab_type": "code",
        "colab": {
          "base_uri": "https://localhost:8080/",
          "height": 68
        },
        "outputId": "69280346-2682-4ff0-d954-b03a3b77f46c"
      },
      "source": [
        "print('mean : ', mean,'\\nLower Interval : ', interval_min, '\\nUpper Interval : ', interval_max)"
      ],
      "execution_count": 24,
      "outputs": [
        {
          "output_type": "stream",
          "text": [
            "mean :  8628.742857142857 \n",
            "Lower Interval :  6243.435065625621 \n",
            "Upper Interval :  11014.050648660093\n"
          ],
          "name": "stdout"
        }
      ]
    },
    {
      "cell_type": "markdown",
      "metadata": {
        "id": "m9KGdFozTsaO",
        "colab_type": "text"
      },
      "source": [
        "## Method 2"
      ]
    },
    {
      "cell_type": "code",
      "metadata": {
        "id": "l_Hajv1uTUIz",
        "colab_type": "code",
        "colab": {
          "base_uri": "https://localhost:8080/",
          "height": 34
        },
        "outputId": "d3cf3fb5-2507-4f7e-cb36-a7e315e9b4e9"
      },
      "source": [
        "sample_mean = round(np.mean(population),2)\n",
        "print(\"Sample mean =\", sample_mean)"
      ],
      "execution_count": 32,
      "outputs": [
        {
          "output_type": "stream",
          "text": [
            "Sample mean = 8628.74\n"
          ],
          "name": "stdout"
        }
      ]
    },
    {
      "cell_type": "code",
      "metadata": {
        "id": "SZDl4bYSSsdU",
        "colab_type": "code",
        "colab": {
          "base_uri": "https://localhost:8080/",
          "height": 34
        },
        "outputId": "2feeaa64-0442-4e56-83f8-47f219a48963"
      },
      "source": [
        "t_value = stats.t.ppf(0.975, 15)\n",
        "print(\"t critical value or t statistics = \", round(t_value,2))"
      ],
      "execution_count": 25,
      "outputs": [
        {
          "output_type": "stream",
          "text": [
            "t critical value or t statistics =  2.13\n"
          ],
          "name": "stdout"
        }
      ]
    },
    {
      "cell_type": "code",
      "metadata": {
        "id": "XN1R1qSzS1mv",
        "colab_type": "code",
        "colab": {
          "base_uri": "https://localhost:8080/",
          "height": 34
        },
        "outputId": "1afb80ce-ec11-451a-f1b2-ebdc671a1d98"
      },
      "source": [
        "sample_std = np.std(population, ddof=1) \n",
        "sample_std = round(sample_std, 2)         \n",
        "print(\"Sample Standard Deviation =\", sample_std)"
      ],
      "execution_count": 26,
      "outputs": [
        {
          "output_type": "stream",
          "text": [
            "Sample Standard Deviation = 6943.88\n"
          ],
          "name": "stdout"
        }
      ]
    },
    {
      "cell_type": "code",
      "metadata": {
        "id": "r23DMwu_S9KT",
        "colab_type": "code",
        "colab": {
          "base_uri": "https://localhost:8080/",
          "height": 34
        },
        "outputId": "ec39f90b-c9fd-49c5-e5d7-35b2c3428831"
      },
      "source": [
        "# Calculate Sample Standard Error\n",
        "\n",
        "sample_std_err = sample_std / math.sqrt(len(population))\n",
        "sample_std_err = round(sample_std_err,2)\n",
        "print(\"Sample Standard Error is\", sample_std_err)"
      ],
      "execution_count": 28,
      "outputs": [
        {
          "output_type": "stream",
          "text": [
            "Sample Standard Error is 1173.73\n"
          ],
          "name": "stdout"
        }
      ]
    },
    {
      "cell_type": "code",
      "metadata": {
        "id": "os9pf3SwS5El",
        "colab_type": "code",
        "colab": {
          "base_uri": "https://localhost:8080/",
          "height": 34
        },
        "outputId": "cd6632de-2435-47d6-9e1e-fb4c275b1d71"
      },
      "source": [
        "margin_of_error = round(t_value * sample_std_err,2) \n",
        "print(\"Margin of Error =\", margin_of_error)"
      ],
      "execution_count": 29,
      "outputs": [
        {
          "output_type": "stream",
          "text": [
            "Margin of Error = 2501.75\n"
          ],
          "name": "stdout"
        }
      ]
    },
    {
      "cell_type": "code",
      "metadata": {
        "id": "a2CfZCPtTKW_",
        "colab_type": "code",
        "colab": {
          "base_uri": "https://localhost:8080/",
          "height": 34
        },
        "outputId": "d39b96d3-3075-466a-9f00-c75ebee58274"
      },
      "source": [
        "lower_limit = sample_mean - margin_of_error\n",
        "print (\"Lower Limit = \", lower_limit)"
      ],
      "execution_count": 33,
      "outputs": [
        {
          "output_type": "stream",
          "text": [
            "Lower Limit =  6126.99\n"
          ],
          "name": "stdout"
        }
      ]
    },
    {
      "cell_type": "code",
      "metadata": {
        "id": "qYSYQmotTQUg",
        "colab_type": "code",
        "colab": {
          "base_uri": "https://localhost:8080/",
          "height": 34
        },
        "outputId": "f1b24fd0-6a8b-4764-d054-8c881df79234"
      },
      "source": [
        "upper_limit = sample_mean + margin_of_error\n",
        "print (\"Upper Limit = \", upper_limit)"
      ],
      "execution_count": 34,
      "outputs": [
        {
          "output_type": "stream",
          "text": [
            "Upper Limit =  11130.49\n"
          ],
          "name": "stdout"
        }
      ]
    },
    {
      "cell_type": "code",
      "metadata": {
        "id": "f2JX8se5TRKR",
        "colab_type": "code",
        "colab": {
          "base_uri": "https://localhost:8080/",
          "height": 34
        },
        "outputId": "c635c229-213a-449a-d9e9-1017a576b881"
      },
      "source": [
        "print(\"The 95% Confidence Interval Estimate of American Annual Beef Consumption = (\", lower_limit, \",\", upper_limit, \")\")"
      ],
      "execution_count": 35,
      "outputs": [
        {
          "output_type": "stream",
          "text": [
            "The 95% Confidence Interval Estimate of American Annual Beef Consumption = ( 6126.99 , 11130.49 )\n"
          ],
          "name": "stdout"
        }
      ]
    },
    {
      "cell_type": "code",
      "metadata": {
        "id": "6XDboJPeTp2a",
        "colab_type": "code",
        "colab": {}
      },
      "source": [
        ""
      ],
      "execution_count": 0,
      "outputs": []
    }
  ]
}