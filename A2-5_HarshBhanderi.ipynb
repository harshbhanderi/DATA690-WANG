{
 "cells": [
  {
   "cell_type": "markdown",
   "metadata": {},
   "source": [
    "# 690 : Assignment 2.5"
   ]
  },
  {
   "cell_type": "markdown",
   "metadata": {},
   "source": [
    "### By Harsh Bhanderi"
   ]
  },
  {
   "cell_type": "markdown",
   "metadata": {},
   "source": [
    "## Exercise 1 : Character Input"
   ]
  },
  {
   "cell_type": "code",
   "execution_count": 12,
   "metadata": {},
   "outputs": [
    {
     "name": "stdin",
     "output_type": "stream",
     "text": [
      "Enter Your Name :  harsh\n",
      "Enter Your Age :  22\n"
     ]
    },
    {
     "name": "stdout",
     "output_type": "stream",
     "text": [
      "Hello harsh!!! You will turn 100 years old on 2098\n"
     ]
    }
   ],
   "source": [
    "name = input(\"Enter Your Name : \")\n",
    "while(True):\n",
    "    try:\n",
    "        age = int(input(\"Enter Your Age : \"))\n",
    "        break\n",
    "    except:\n",
    "        print(\"Something went wrong !!!! Try Again !!!!\")\n",
    "        continue\n",
    "print(\"Hello \" + name + \"!!! You will turn 100 years old on \" + str(2020-age+100))"
   ]
  },
  {
   "cell_type": "markdown",
   "metadata": {},
   "source": [
    "### Extras"
   ]
  },
  {
   "cell_type": "code",
   "execution_count": 8,
   "metadata": {},
   "outputs": [
    {
     "name": "stdin",
     "output_type": "stream",
     "text": [
      "Enter a number fsd\n"
     ]
    },
    {
     "name": "stdout",
     "output_type": "stream",
     "text": [
      "Something went wrong !!!! Try Again !!!!\n"
     ]
    },
    {
     "name": "stdin",
     "output_type": "stream",
     "text": [
      "Enter a number dfs\n"
     ]
    },
    {
     "name": "stdout",
     "output_type": "stream",
     "text": [
      "Something went wrong !!!! Try Again !!!!\n"
     ]
    },
    {
     "name": "stdin",
     "output_type": "stream",
     "text": [
      "Enter a number 25.5\n"
     ]
    },
    {
     "name": "stdout",
     "output_type": "stream",
     "text": [
      "Something went wrong !!!! Try Again !!!!\n"
     ]
    },
    {
     "name": "stdin",
     "output_type": "stream",
     "text": [
      "Enter a number 25\n"
     ]
    },
    {
     "name": "stdout",
     "output_type": "stream",
     "text": [
      "Hello harsh\n",
      "Hello harsh\n",
      "Hello harsh\n",
      "Hello harsh\n",
      "Hello harsh\n",
      "Hello harsh\n",
      "Hello harsh\n",
      "Hello harsh\n",
      "Hello harsh\n",
      "Hello harsh\n",
      "Hello harsh\n",
      "Hello harsh\n",
      "Hello harsh\n",
      "Hello harsh\n",
      "Hello harsh\n",
      "Hello harsh\n",
      "Hello harsh\n",
      "Hello harsh\n",
      "Hello harsh\n",
      "Hello harsh\n",
      "Hello harsh\n",
      "Hello harsh\n",
      "Hello harsh\n",
      "Hello harsh\n",
      "Hello harsh\n"
     ]
    }
   ],
   "source": [
    "while(True):\n",
    "    try:\n",
    "        num = int(input(\"Enter a number\"))\n",
    "        break\n",
    "    except:\n",
    "        print(\"Something went wrong !!!! Try Again !!!!\")\n",
    "        continue\n",
    "\n",
    "for i in range(0, num):\n",
    "    print(\"Hello \" + name)"
   ]
  },
  {
   "cell_type": "code",
   "execution_count": null,
   "metadata": {},
   "outputs": [],
   "source": []
  },
  {
   "cell_type": "markdown",
   "metadata": {},
   "source": [
    "## Exercise 2 : Odd or Even"
   ]
  },
  {
   "cell_type": "code",
   "execution_count": 9,
   "metadata": {},
   "outputs": [
    {
     "name": "stdin",
     "output_type": "stream",
     "text": [
      "Enter Number :  dsfs\n"
     ]
    },
    {
     "name": "stdout",
     "output_type": "stream",
     "text": [
      "Something went wrong !!!! Try Again !!!!\n"
     ]
    },
    {
     "name": "stdin",
     "output_type": "stream",
     "text": [
      "Enter Number :  25.65+\n"
     ]
    },
    {
     "name": "stdout",
     "output_type": "stream",
     "text": [
      "Something went wrong !!!! Try Again !!!!\n"
     ]
    },
    {
     "name": "stdin",
     "output_type": "stream",
     "text": [
      "Enter Number :  65+\n"
     ]
    },
    {
     "name": "stdout",
     "output_type": "stream",
     "text": [
      "Something went wrong !!!! Try Again !!!!\n"
     ]
    },
    {
     "name": "stdin",
     "output_type": "stream",
     "text": [
      "Enter Number :  56\n"
     ]
    },
    {
     "name": "stdout",
     "output_type": "stream",
     "text": [
      "56 is even.\n"
     ]
    }
   ],
   "source": [
    "while(True):\n",
    "    try:\n",
    "        num = int(input(\"Enter Number : \"))\n",
    "        break\n",
    "    except:\n",
    "        print(\"Something went wrong !!!! Try Again !!!!\")\n",
    "        continue\n",
    "\n",
    "\n",
    "if (num % 2 == 0):\n",
    "    print(str(num) + \" is even.\")\n",
    "elif (num % 2 != 0):\n",
    "    print(str(num) + \" is odd.\")"
   ]
  },
  {
   "cell_type": "markdown",
   "metadata": {},
   "source": [
    "### Extras"
   ]
  },
  {
   "cell_type": "code",
   "execution_count": 1,
   "metadata": {},
   "outputs": [
    {
     "name": "stdin",
     "output_type": "stream",
     "text": [
      "Enter Number :  56\n"
     ]
    },
    {
     "name": "stdout",
     "output_type": "stream",
     "text": [
      "Number is divisible by 4\n"
     ]
    },
    {
     "name": "stdin",
     "output_type": "stream",
     "text": [
      "Enter Number :  da\n"
     ]
    },
    {
     "name": "stdout",
     "output_type": "stream",
     "text": [
      "Something went wrong !!!! Try Again !!!!\n"
     ]
    },
    {
     "name": "stdin",
     "output_type": "stream",
     "text": [
      "Enter Number :  sda\n"
     ]
    },
    {
     "name": "stdout",
     "output_type": "stream",
     "text": [
      "Something went wrong !!!! Try Again !!!!\n"
     ]
    },
    {
     "name": "stdin",
     "output_type": "stream",
     "text": [
      "Enter Number :  56.5\n"
     ]
    },
    {
     "name": "stdout",
     "output_type": "stream",
     "text": [
      "Something went wrong !!!! Try Again !!!!\n"
     ]
    },
    {
     "name": "stdin",
     "output_type": "stream",
     "text": [
      "Enter Number :  56\n",
      "Enter Number to divide by :  8\n"
     ]
    },
    {
     "name": "stdout",
     "output_type": "stream",
     "text": [
      "56 is divisible by 8\n"
     ]
    }
   ],
   "source": [
    "while(True):\n",
    "    try:\n",
    "        num = int(input(\"Enter Number : \"))\n",
    "        break\n",
    "    except:\n",
    "        print(\"Something went wrong !!!! Try Again !!!!\")\n",
    "        continue\n",
    "\n",
    "\n",
    "if (num % 4)== 0:\n",
    "    print(\"Number is divisible by 4\")\n",
    "else:\n",
    "    print(\"Number is not divisible by 4\")\n",
    "    \n",
    "while(True):\n",
    "    try:\n",
    "        num = int(input(\"Enter Number : \"))\n",
    "        break\n",
    "    except:\n",
    "        print(\"Something went wrong !!!! Try Again !!!!\")\n",
    "        continue\n",
    "\n",
    "\n",
    "while(True):\n",
    "    try:\n",
    "        check = int(input(\"Enter Number to divide by : \"))\n",
    "        break\n",
    "    except:\n",
    "        print(\"Something went wrong !!!! Try Again !!!!\")\n",
    "        continue\n",
    "\n",
    "\n",
    "\n",
    "if num%check == 0:\n",
    "    print(str(num) + \" is divisible by \" + str(check))\n",
    "else:\n",
    "    print(str(num) + \" is not divisible by \" + str(check))"
   ]
  },
  {
   "cell_type": "code",
   "execution_count": null,
   "metadata": {},
   "outputs": [],
   "source": []
  },
  {
   "cell_type": "markdown",
   "metadata": {},
   "source": [
    "## Exercise 3 : List less than Ten"
   ]
  },
  {
   "cell_type": "code",
   "execution_count": 2,
   "metadata": {},
   "outputs": [
    {
     "name": "stdout",
     "output_type": "stream",
     "text": [
      "2\n",
      "3\n"
     ]
    }
   ],
   "source": [
    "l = [2,5,46,8,9,97,3,7496,13,31]\n",
    "\n",
    "for i in l:\n",
    "    if (i<5):\n",
    "        print(i)"
   ]
  },
  {
   "cell_type": "markdown",
   "metadata": {},
   "source": [
    "### Extras"
   ]
  },
  {
   "cell_type": "code",
   "execution_count": 5,
   "metadata": {},
   "outputs": [
    {
     "name": "stdout",
     "output_type": "stream",
     "text": [
      "[2, 3]\n"
     ]
    },
    {
     "name": "stdin",
     "output_type": "stream",
     "text": [
      "Enter the number :  536\n"
     ]
    },
    {
     "name": "stdout",
     "output_type": "stream",
     "text": [
      "Numbers that are less then  536  in the list\n",
      "2\n",
      "5\n",
      "46\n",
      "8\n",
      "9\n",
      "97\n",
      "3\n",
      "13\n",
      "31\n"
     ]
    }
   ],
   "source": [
    "new_l = []\n",
    "\n",
    "for i in l:\n",
    "    if (i<5):\n",
    "        new_l.append(i)\n",
    "\n",
    "print(new_l)\n",
    "\n",
    "\n",
    "while(True):\n",
    "    try:\n",
    "        num = int(input(\"Enter the number : \"))\n",
    "        break\n",
    "    except:\n",
    "        print(\"Something went wrong !!!! Try Again !!!!\")\n",
    "        continue\n",
    "\n",
    "print(\"Numbers that are less then \",  num, \" in the list\")\n",
    "\n",
    "for i in l:\n",
    "    if (i<num):\n",
    "        print(i)"
   ]
  },
  {
   "cell_type": "code",
   "execution_count": null,
   "metadata": {},
   "outputs": [],
   "source": []
  },
  {
   "cell_type": "markdown",
   "metadata": {},
   "source": [
    "## Exercise 4 : Divisors"
   ]
  },
  {
   "cell_type": "code",
   "execution_count": 7,
   "metadata": {},
   "outputs": [
    {
     "name": "stdin",
     "output_type": "stream",
     "text": [
      "Enter the number to find divisors :  49\n"
     ]
    },
    {
     "name": "stdout",
     "output_type": "stream",
     "text": [
      "1\n",
      "7\n",
      "49\n"
     ]
    }
   ],
   "source": [
    "while(True):\n",
    "    try:\n",
    "        num = int(input(\"Enter the number to find divisors : \"))\n",
    "        break\n",
    "    except:\n",
    "        print(\"Something went wrong !!!! Try Again !!!!\")\n",
    "        continue\n",
    "\n",
    "i = 1\n",
    "for i in range(1, num+1):\n",
    "    if num%i==0:\n",
    "        print(i)\n",
    "    i = i + 1"
   ]
  },
  {
   "cell_type": "code",
   "execution_count": null,
   "metadata": {},
   "outputs": [],
   "source": []
  },
  {
   "cell_type": "markdown",
   "metadata": {},
   "source": [
    "## Exercise 5 : List Overlap"
   ]
  },
  {
   "cell_type": "code",
   "execution_count": 8,
   "metadata": {},
   "outputs": [
    {
     "data": {
      "text/plain": [
       "[1, 2, 3, 5, 6, 13]"
      ]
     },
     "execution_count": 8,
     "metadata": {},
     "output_type": "execute_result"
    }
   ],
   "source": [
    "a = [1, 2, 3, 5, 6, 13, 21, 34, 55, 89]\n",
    "b = [1, 2, 3, 4, 5, 6, 7, 8, 9, 10, 11, 12, 13]\n",
    "c = []\n",
    "\n",
    "for i in a:\n",
    "    for j in b:\n",
    "        if (i == j):\n",
    "            c.append(i)\n",
    "            \n",
    "c"
   ]
  },
  {
   "cell_type": "code",
   "execution_count": null,
   "metadata": {},
   "outputs": [],
   "source": []
  },
  {
   "cell_type": "markdown",
   "metadata": {},
   "source": [
    "## Exercise 6 : String Lists"
   ]
  },
  {
   "cell_type": "code",
   "execution_count": 11,
   "metadata": {},
   "outputs": [
    {
     "name": "stdin",
     "output_type": "stream",
     "text": [
      "Enter the String 12356\n"
     ]
    },
    {
     "name": "stdout",
     "output_type": "stream",
     "text": [
      "['6', '5', '3', '2', '1']\n",
      "['1', '2', '3', '5', '6']\n",
      "It's not a palindrome\n"
     ]
    }
   ],
   "source": [
    "s = str(input(\"Enter the String\"))\n",
    "list_s = []\n",
    "rev_s = []\n",
    "\n",
    "s.strip()\n",
    "\n",
    "for char in s:\n",
    "    list_s.append(char)\n",
    "    rev_s.append(char)\n",
    "    \n",
    "list_s.reverse()\n",
    "print(list_s)\n",
    "\n",
    "print(rev_s)\n",
    "\n",
    "if rev_s == list_s:\n",
    "    print(\"It's palindrome\")\n",
    "else:\n",
    "    print(\"It's not a palindrome\")"
   ]
  }
 ],
 "metadata": {
  "kernelspec": {
   "display_name": "Python 3",
   "language": "python",
   "name": "python3"
  },
  "language_info": {
   "codemirror_mode": {
    "name": "ipython",
    "version": 3
   },
   "file_extension": ".py",
   "mimetype": "text/x-python",
   "name": "python",
   "nbconvert_exporter": "python",
   "pygments_lexer": "ipython3",
   "version": "3.7.3"
  }
 },
 "nbformat": 4,
 "nbformat_minor": 4
}
